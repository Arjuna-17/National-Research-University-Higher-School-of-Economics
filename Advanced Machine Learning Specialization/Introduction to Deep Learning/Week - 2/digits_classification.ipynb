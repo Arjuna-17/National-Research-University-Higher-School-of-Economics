{
 "cells": [
  {
   "cell_type": "markdown",
   "metadata": {
    "slideshow": {
     "slide_type": "slide"
    }
   },
   "source": [
    "# MNIST digits classification with TensorFlow"
   ]
  },
  {
   "cell_type": "markdown",
   "metadata": {},
   "source": [
    "<img src=\"images/mnist_sample.png\" style=\"width:30%\">"
   ]
  },
  {
   "cell_type": "code",
   "execution_count": 1,
   "metadata": {},
   "outputs": [
    {
     "name": "stdout",
     "output_type": "stream",
     "text": [
      "We're using TF 1.2.1\n"
     ]
    }
   ],
   "source": [
    "import numpy as np\n",
    "from sklearn.metrics import accuracy_score\n",
    "from matplotlib import pyplot as plt\n",
    "%matplotlib inline\n",
    "import tensorflow as tf\n",
    "print(\"We're using TF\", tf.__version__)"
   ]
  },
  {
   "cell_type": "code",
   "execution_count": 2,
   "metadata": {},
   "outputs": [
    {
     "name": "stderr",
     "output_type": "stream",
     "text": [
      "Using TensorFlow backend.\n"
     ]
    }
   ],
   "source": [
    "import sys\n",
    "sys.path.append(\"../..\")\n",
    "import grading\n",
    "\n",
    "import matplotlib_utils\n",
    "from importlib import reload\n",
    "reload(matplotlib_utils)\n",
    "\n",
    "import grading_utils\n",
    "reload(grading_utils)\n",
    "\n",
    "import keras_utils\n",
    "from keras_utils import reset_tf_session"
   ]
  },
  {
   "cell_type": "markdown",
   "metadata": {},
   "source": [
    "# Fill in your Coursera token and email\n",
    "To successfully submit your answers to our grader, please fill in your Coursera submission token and email"
   ]
  },
  {
   "cell_type": "code",
   "execution_count": 3,
   "metadata": {
    "collapsed": true
   },
   "outputs": [],
   "source": [
    "grader = grading.Grader(assignment_key=\"XtD7ho3TEeiHQBLWejjYAA\", \n",
    "                        all_parts=[\"9XaAS\", \"vmogZ\", \"RMv95\", \"i8bgs\", \"rE763\"])"
   ]
  },
  {
   "cell_type": "code",
   "execution_count": 4,
   "metadata": {
    "collapsed": true
   },
   "outputs": [],
   "source": [
    "# token expires every 30 min\n",
    "COURSERA_TOKEN = \"TF9LVPEGv6zIYeRb\"\n",
    "COURSERA_EMAIL = \"p.sivasandeep123@gmail.com\""
   ]
  },
  {
   "cell_type": "markdown",
   "metadata": {},
   "source": [
    "# Look at the data\n",
    "\n",
    "In this task we have 50000 28x28 images of digits from 0 to 9.\n",
    "We will train a classifier on this data."
   ]
  },
  {
   "cell_type": "code",
   "execution_count": 5,
   "metadata": {
    "collapsed": true
   },
   "outputs": [],
   "source": [
    "import preprocessed_mnist\n",
    "X_train, y_train, X_val, y_val, X_test, y_test = preprocessed_mnist.load_dataset_from_file()"
   ]
  },
  {
   "cell_type": "code",
   "execution_count": 6,
   "metadata": {},
   "outputs": [
    {
     "name": "stdout",
     "output_type": "stream",
     "text": [
      "X_train [shape (50000, 28, 28)] sample patch:\n",
      " [[ 0.          0.29803922  0.96470588  0.98823529  0.43921569]\n",
      " [ 0.          0.33333333  0.98823529  0.90196078  0.09803922]\n",
      " [ 0.          0.33333333  0.98823529  0.8745098   0.        ]\n",
      " [ 0.          0.33333333  0.98823529  0.56862745  0.        ]\n",
      " [ 0.          0.3372549   0.99215686  0.88235294  0.        ]]\n",
      "A closeup of a sample patch:\n"
     ]
    },
    {
     "data": {
      "image/png": "[encoded data removed]",
      "text/plain": [
       "<matplotlib.figure.Figure at 0x7f42e72978d0>"
      ]
     },
     "metadata": {},
     "output_type": "display_data"
    },
    {
     "name": "stdout",
     "output_type": "stream",
     "text": [
      "And the whole sample:\n"
     ]
    },
    {
     "data": {
      "image/png": "[encoded data removed]",
      "text/plain": [
       "<matplotlib.figure.Figure at 0x7f42e71f5390>"
      ]
     },
     "metadata": {},
     "output_type": "display_data"
    },
    {
     "name": "stdout",
     "output_type": "stream",
     "text": [
      "y_train [shape (50000,)] 10 samples:\n",
      " [5 0 4 1 9 2 1 3 1 4]\n"
     ]
    }
   ],
   "source": [
    "# X contains rgb values divided by 255\n",
    "print(\"X_train [shape %s] sample patch:\\n\" % (str(X_train.shape)), X_train[1, 15:20, 5:10])\n",
    "print(\"A closeup of a sample patch:\")\n",
    "plt.imshow(X_train[1, 15:20, 5:10], cmap=\"Greys\")\n",
    "plt.show()\n",
    "print(\"And the whole sample:\")\n",
    "plt.imshow(X_train[1], cmap=\"Greys\")\n",
    "plt.show()\n",
    "print(\"y_train [shape %s] 10 samples:\\n\" % (str(y_train.shape)), y_train[:10])"
   ]
  },
  {
   "cell_type": "markdown",
   "metadata": {},
   "source": [
    "# Linear model\n",
    "\n",
    "Your task is to train a linear classifier $\\vec{x} \\rightarrow y$ with SGD using TensorFlow.\n",
    "\n",
    "You will need to calculate a logit (a linear transformation) $z_k$ for each class: \n",
    "$$z_k = \\vec{x} \\cdot \\vec{w_k} + b_k \\quad k = 0..9$$\n",
    "\n",
    "And transform logits $z_k$ to valid probabilities $p_k$ with softmax: \n",
    "$$p_k = \\frac{e^{z_k}}{\\sum_{i=0}^{9}{e^{z_i}}} \\quad k = 0..9$$\n",
    "\n",
    "We will use a cross-entropy loss to train our multi-class classifier:\n",
    "$$\\text{cross-entropy}(y, p) = -\\sum_{k=0}^{9}{\\log(p_k)[y = k]}$$ \n",
    "\n",
    "where \n",
    "$$\n",
    "[x]=\\begin{cases}\n",
    "       1, \\quad \\text{if $x$ is true} \\\\\n",
    "       0, \\quad \\text{otherwise}\n",
    "    \\end{cases}\n",
    "$$\n",
    "\n",
    "Cross-entropy minimization pushes $p_k$ close to 1 when $y = k$, which is what we want.\n",
    "\n",
    "Here's the plan:\n",
    "* Flatten the images (28x28 -> 784) with `X_train.reshape((X_train.shape[0], -1))` to simplify our linear model implementation\n",
    "* Use a matrix placeholder for flattened `X_train`\n",
    "* Convert `y_train` to one-hot encoded vectors that are needed for cross-entropy\n",
    "* Use a shared variable `W` for all weights (a column $\\vec{w_k}$ per class) and `b` for all biases.\n",
    "* Aim for ~0.93 validation accuracy"
   ]
  },
  {
   "cell_type": "code",
   "execution_count": 7,
   "metadata": {},
   "outputs": [
    {
     "name": "stdout",
     "output_type": "stream",
     "text": [
      "(50000, 784)\n",
      "(10000, 784)\n"
     ]
    }
   ],
   "source": [
    "X_train_flat = X_train.reshape((X_train.shape[0], -1))\n",
    "print(X_train_flat.shape)\n",
    "\n",
    "X_val_flat = X_val.reshape((X_val.shape[0], -1))\n",
    "print(X_val_flat.shape)"
   ]
  },
  {
   "cell_type": "code",
   "execution_count": 8,
   "metadata": {},
   "outputs": [
    {
     "name": "stdout",
     "output_type": "stream",
     "text": [
      "(50000, 10)\n",
      "[[ 0.  0.  0.  0.  0.  1.  0.  0.  0.  0.]\n",
      " [ 1.  0.  0.  0.  0.  0.  0.  0.  0.  0.]\n",
      " [ 0.  0.  0.  0.  1.  0.  0.  0.  0.  0.]] [5 0 4]\n"
     ]
    }
   ],
   "source": [
    "import keras\n",
    "\n",
    "y_train_oh = keras.utils.to_categorical(y_train, 10)\n",
    "y_val_oh = keras.utils.to_categorical(y_val, 10)\n",
    "\n",
    "print(y_train_oh.shape)\n",
    "print(y_train_oh[:3], y_train[:3])"
   ]
  },
  {
   "cell_type": "code",
   "execution_count": 9,
   "metadata": {
    "collapsed": true
   },
   "outputs": [],
   "source": [
    "# run this again if you remake your graph\n",
    "s = reset_tf_session()"
   ]
  },
  {
   "cell_type": "code",
   "execution_count": 10,
   "metadata": {
    "collapsed": true
   },
   "outputs": [],
   "source": [
    "# Model parameters: W and b\n",
    "W = tf.get_variable(\"W\", shape=(784,10), dtype = tf.float32, initializer = tf.contrib.layers.xavier_initializer())\n",
    "b = tf.get_variable(\"b\", shape=(10,), dtype = tf.float32, initializer = tf.contrib.layers.xavier_initializer())"
   ]
  },
  {
   "cell_type": "code",
   "execution_count": 11,
   "metadata": {
    "collapsed": true
   },
   "outputs": [],
   "source": [
    "# Placeholders for the input data\n",
    "input_X = tf.placeholder(tf.float32, shape=[None, 784])\n",
    "input_y = tf.placeholder(tf.float32, shape=[None, 10])"
   ]
  },
  {
   "cell_type": "code",
   "execution_count": 12,
   "metadata": {
    "collapsed": true
   },
   "outputs": [],
   "source": [
    "# Compute predictions\n",
    "logits = tf.matmul(input_X, W)+b\n",
    "probas = tf.nn.softmax(logits)\n",
    "classes = tf.argmax(probas, 1)\n",
    "\n",
    "# Loss should be a scalar number: average loss over all the objects with tf.reduce_mean().\n",
    "# Use tf.nn.softmax_cross_entropy_with_logits on top of one-hot encoded input_y and logits.\n",
    "# It is identical to calculating cross-entropy on top of probas, but is more numerically friendly (read the docs).\n",
    "loss = tf.reduce_mean(tf.nn.softmax_cross_entropy_with_logits(logits=logits, labels=input_y))\n",
    "\n",
    "# Use a default tf.train.AdamOptimizer to get an SGD step\n",
    "step = tf.train.AdamOptimizer().minimize(loss)"
   ]
  },
  {
   "cell_type": "code",
   "execution_count": 13,
   "metadata": {
    "scrolled": false
   },
   "outputs": [
    {
     "data": {
      "text/html": [
       "<img src=\"data:image/jpeg;base64,/9j/4AAQSkZJRgABAQAAAQABAAD/2wBDAAIBAQEBAQIBAQECAgICAgQDAgICAgUEBAMEBgUGBgYFBgYGBwkIBgcJBwYGCAsICQoKCgoKBggLDAsKDAkKCgr/2wBDAQICAgICAgUDAwUKBwYHCgoKCgoKCgoKCgoKCgoKCgoKCgoKCgoKCgoKCgoKCgoKCgoKCgoKCgoKCgoKCgoKCgr/wAARCAEgA2ADASIAAhEBAxEB/8QAHwAAAQUBAQEBAQEAAAAAAAAAAAECAwQFBgcICQoL/8QAtRAAAgEDAwIEAwUFBAQAAAF9AQIDAAQRBRIhMUEGE1FhByJxFDKBkaEII0KxwRVS0fAkM2JyggkKFhcYGRolJicoKSo0NTY3ODk6Q0RFRkdISUpTVFVWV1hZWmNkZWZnaGlqc3R1dnd4eXqDhIWGh4iJipKTlJWWl5iZmqKjpKWmp6ipqrKztLW2t7i5usLDxMXGx8jJytLT1NXW19jZ2uHi4%2BTl5ufo6erx8vP09fb3%2BPn6/8QAHwEAAwEBAQEBAQEBAQAAAAAAAAECAwQFBgcICQoL/8QAtREAAgECBAQDBAcFBAQAAQJ3AAECAxEEBSExBhJBUQdhcRMiMoEIFEKRobHBCSMzUvAVYnLRChYkNOEl8RcYGRomJygpKjU2Nzg5OkNERUZHSElKU1RVVldYWVpjZGVmZ2hpanN0dXZ3eHl6goOEhYaHiImKkpOUlZaXmJmaoqOkpaanqKmqsrO0tba3uLm6wsPExcbHyMnK0tPU1dbX2Nna4uPk5ebn6Onq8vP09fb3%2BPn6/9oADAMBAAIRAxEAPwD9/KKKKACiiigAooooAKKKKACiiigAooooAKKKKACiiigAooooAKKKKACiiigAooooAKKKKACiiigAooooAKKKKACiiigAooooAKKKKACiiigAooooAKKKKACiiigAooooAKKKKACiiigAooooAKKKKACiiigAooooAKKKKACiiigAooooAKKKKACiiigAooooAKKKKACiiigAooooAKKKKACiiigAooooAKKKKACiiigAooooAKKKKACiiigAooooAKKKKACiiigAooooAKKKKACiiigAooooAKKKKACiiigAooooAKKKKACiiigAooooAKKKKACiiigAooooAKKKKACiiigAooooAKKKKACvPfjt%2B1J8FP2b5NGsfil4g1Maj4ilnTQNB8OeF9R1zVNR8lVed4bHTbee5kjiVkMkixlI96biu5c%2BhV4N%2B0P8D/j5/wANJ%2BDv2tv2bLLwfrWueH/B2seFNX8KeOdcutLtLywv7mwuxcQXtraXj288U2noCpt3WVJSCUKK1ABpf/BTL9izWLvxPb2nxXv0h8FWsk/jLUrvwXrEFjoIS0iu9l5dy2iwWsrQzRskMjrJIWKorMrKL2n/APBQ/wDZK1HwBrXxFTx/q9vB4f1ay0vVdE1DwNrNrrkV5ebfscC6PNaLqEr3AYGER27eaAxTcFYjy2b9gH4y%2BMf2a/jn8NfGHinwppHin4o/FS38daHc6U1xeWFpeW0OiywQ3IkihkkiN3pRRwoyYHGDuJVaPi79i/8AaV%2BLmr/Ef45fG34S/CjWvFnjWx8KaPp/gKy%2BI2s2Wm6fY6Hcaldw3qa7b6al5DqDXOqTOksVoPJSKNFZiWcgHsviH9vv9mzwv4a8OeI9XvvG3meK0v5NE8P2vwm8SXGuSRWUscV3NJpMWntf28MLzQq8s0CIpmiy37xM%2Bmaz8RPBHhv4e3XxX8T%2BJbbSvDljo76rf6vqrfZYbSySIzPPMZdvlKsYLNvxtAOcYNfGHin9hH9s/WPgX4X8Nay3hfxV470a58RHRfGV/wDHbxNpGr%2BCLW%2BuUktLO11q1sJLzXIYkjhEy3qw/aTbReYCFGPUfjR/wTotfj1%2Bzb4n%2BHHxD%2BOfjW78d%2BMPhfH4Z17xS3jbWho818tpDE2oJoS3y2FuzzQLK3kRRSEPIBIrSM5AOkg/4KUfsZf8K58V/FbWPite6Jo3giysr7xQ/ifwdq%2Bk3NlZXkxhtb37LeWsVxJaSyK6pcxxtC3luQ%2BEYjj/AI3f8FZP2d/hn8ENU%2BMfgPRfFXiqbQfiD4X8L674Y/4QXXbHU7A6zqVrax3T2cmnNdeV5Fw88DeT5d48aW8MhknjB8r1T/gmJ8ZPHfwq8faR4i8DeG9G8Y%2BI9D0fR7DxDqv7RfjPxut3aWusW%2BoTRyf27AfsEZ8likUSzHe%2BGkxknv8A9qH9gz40/GD4g/F/4g%2BBfEPheOTxfB8LbzwlZ6tfXMSvf%2BE/EdzrUsN40dvJ5ENwGt4VljEzrl2MfyKrgHqFh/wUE/Zb1H4m2XwZh8T%2BJo/Fd5oun6xLoF38N9egudO0%2B9adILu/SSyU6dDut5VeS68pYiFEhQum6j4a/wCCmH7FPi3wZ4s%2BIWkfGC4TR/Bfgi68Zaxe6h4S1W0Fx4et0Z5tWsVntUbVLNVQ4nsxPGxZArEugbB0P9kP4ofEP4mfG74g/G9fD2gxfGj4O%2BHfCF1Y%2BE9duNRl0u4tE11Ltlnns7XzYwNViMT7FZikm6OPA3fN37Y37Kn7UOj/ALDHxS%2BJv7TF34AtIfhD%2BxT8QfBHhePwFqF5cNrzXukWxn1G6W5toBYqE0i3CWcbXAVppCZ22oKAPrPw9/wUl/Yy8TaHrHiPT/i1dQWehppU1/JqnhLVbJmtNSu1s7HUIUuLVGubCWdgovoQ9qoDO0qorMPT9E%2BLvw88R/FLX/gvofiH7T4k8LaXp%2Boa/YR2k22zgvmuBa7pinlF3%2ByzHy1cyKoRmVVkjLfJOofsz%2BIPFegeKfjb/wAFIvF/wz8J%2BBbf9nu5%2BHUlx4f8QTLay6beyQyXmq3k17BbpYOTBbCG2QzCAmT/AEiQsuOw/wCCPngP4u2f7I9r8f8A9pDUDf8AxJ%2BL15H4n8V6g9nJbtJCLSCy01fKl%2BeH/iX2lpI0TYKSzTZAYtkA%2BqqKKKACiiigAooooAKKKKACiiigAooooAKKKKACiiigAooooAKKKKACiiigAooooAKKKKACiiigAooooAKKKKACiiigAooooAK8R0j/AIKMfse6ld69Z6n8Urzw83hzw5c%2BINQk8a%2BEdV0GObSbd0jnv7WTUrWBb63R5IlaW2MqAyxjOXXPtN7FczWcsNndCCZ4mWKYx7/LYjhtp64POO9fmJq//BHL9uX4v6t4X1z43fHHQ31vw14P1Cz1DxRqHxW8TeJx4h1v7ZpV9a6idLvoobLSbaS50xfPsLIBRHJtWWQKgUA%2B2X/b/wD2YbX4aN8WNY8QeKtK0ttcg0axs9c%2BGWv2GqanfzIZIYLLTbixS9v2kQM6/Z4ZAyo7AkIxHReA/wBqz4H/ABH1%2By8J%2BHPEOqQ6vf8AhSfxJDpGteFdS0y7TTYbv7JLLLDeW8UkDrP8hhkVZe%2BzbzXk3xO%2BDn7bvxib4e/G3XPBvwq0P4h/Cjx1NrHh/wAM2vjjUr/Rdcs7jSbvTLmO4vn0qGaxmKXskkbpa3AjMQU%2BYJGxV%2BJPwG/bg1/4y%2BHf2mvA%2BjfCu08WX3ww1XwX4x0LUvFepSWGkLcX8N1a39lcJpwk1AxCN1kt5YrQSlxiWLHIB3Gk/wDBRv8AZA8R694F8LeFfiNqus6n8SfBuleLfBunaJ4H1m9nvND1F9lrqMiQWjNa2%2B7HmSTiNbcMpm8oMCdj4a/tufs3fFf4jXPwn8M%2BL9Ws9ft9LudThsvE/gzVtEW/sbeRI57uyl1G1gjv4I3liDy2zSIvmISQGUnyj9hT9hL4sfsw6/8ADjWfHniDw1dnwd%2Byl4R%2BGN%2B%2BkXM8rNq2lvM1zNF5kEe61bemxmKu235o0wK8a%2BGn/BKv9sbxP8UfC/ib9qb4w2eqRaf4A8V%2BF/GniaD4v%2BJNavPEUur2KW39p2umX0Men6EcqWNpaKUXKgTOI1WgD6l8J/8ABRf9kfxrosfirQfHeuf2Hcarpen6f4lvfh/rdrpWoy6lex2VlJaX09mlteQS3M0UYuIJHhBlQs4VgT6X4W%2BLvw88a/EDxT8LvC/iH7XrnguSzj8T2iWkwWxkuoPtEEZlZBG7tCVkKIzMiyRlgokTd8w%2BOPAnxF8K/wDBPbxp8CP%2BChnif4VeCPAWg/DSLQLb4meHfFt2GadI0trXUntLqzgTTZlmFvJDBHcXTGcoiOTtDdr/AMEr/h98WPDf7ImlfFX9oqwS3%2BJ3xYvpfHXxEhW3aL7Pf36xmG02N8yfZbGOys9pyQLXBoA%2BjaKKKACiiigAooooAKKKKACiiigAooooAKKKKACiiigAooooAKKKKACiiigAooooAKKKKACiiigAooooAKKKKACiiigAooooAKKKKACvF/j14/8A2i/%2BGi/AvwI%2BAvjPwV4fTX/BXiXXtX1Pxf4Lu9aJOnXeh28MMMdvqVj5Yb%2B1JWZmZ8%2BWgAXkn2ivCviLrSWX/BSr4Q6LIoxe/BP4hsjZ53R6t4NOPyZj%2BFJtLcuEJVHaPZv7tWX/APhB/wDgoX/0dB8Gf/DD6t/81FH/AAg//BQv/o6D4M/%2BGH1b/wCaivZqKZB4z/wg/wDwUL/6Og%2BDP/hh9W/%2Baij/AIQf/goX/wBHQfBn/wAMPq3/AM1FezUUAeM/8IP/AMFC/wDo6D4M/wDhh9W/%2Baij/hB/%2BChf/R0HwZ/8MPq3/wA1FezUUAeM/wDCD/8ABQv/AKOg%2BDP/AIYfVv8A5qKP%2BEH/AOChf/R0HwZ/8MPq3/zUV7NRQB4z/wAIP/wUL/6Og%2BDP/hh9W/8Amoo/4Qf/AIKF/wDR0HwZ/wDDD6t/81FezUUAeM/8IP8A8FC/%2BjoPgz/4YfVv/moo/wCEH/4KF/8AR0HwZ/8ADD6t/wDNRXs1FAHjP/CD/wDBQv8A6Og%2BDP8A4YfVv/moo/4Qf/goX/0dB8Gf/DD6t/8ANRXs1FAHjP8Awg//AAUL/wCjoPgz/wCGH1b/AOaij/hB/wDgoX/0dB8Gf/DD6t/81FWtf%2BN/7InwptNI0n46fGH4c%2BHNc1DRYNQNt4u8Q2Fpd3EcmR5%2B24dXZGdJAG6ZRhnggZv/AA1//wAE4P8Ao6L4I/8AhbaP/wDHa5p4zB05OM6sU10cop/c5JntYfhviTF0I1qGBrzhJXUo0a0otd1KNGUWtHqm1puWP%2BEH/wCChf8A0dB8Gf8Aww%2Brf/NRR/wg/wDwUL/6Og%2BDP/hh9W/%2Baiq//DX/APwTg/6Oi%2BCP/hbaP/8AHa9O0DRfhZ4r0Ky8U%2BFtJ8P6lpmpWkd1p2o6fBBNBdQSKHjljkQFXRlIZWUkEEEHBq6WJw9dtU5xlbtJP8mznx2TZzlcIzxuFq0lJ2TqU6lNN72TnTgm7a2Tbtra2p5z/wAIP/wUL/6Og%2BDP/hh9W/8Amoo/4Qf/AIKF/wDR0HwZ/wDDD6t/81FeefD7/go1%2Bxf4v8D2fjDxD8PfE%2Bgz6p441rwtomjXPwe1ue81a9064v45FtIodPZ7omHT552WJXMIBjk2SKyjsviF%2B1R%2By14FsvHtpeaJFp%2BseAvCGteIby28WeBNW0mzu7PTF/0ue3upNOcXtvEzRCSWyS6KiaNgj70V9jzTR/4Qf/goX/0dB8Gf/DD6t/8ANRR/wg//AAUL/wCjoPgz/wCGH1b/AOaiqth%2B1Z%2BxhqHxnk/Z%2BhvLf/hKLfxBHoN1H/wg1%2BLCHVX06PUo7FtQa0Fos72kqTJGZQzg4UFgVGz8a/ir8FfhJ%2Bzzrv7Q%2Bj%2BEdG8Uadpdg0mm2%2BhrbSDVbppRBBaxTAFA0lwyQ7idqsxLdDQBQ/4Qf/goX/0dB8Gf/DD6t/8ANRR/wg//AAUL/wCjoPgz/wCGH1b/AOain/s4fEC2%2BLl54y8D/FH4FeG/CvjDwH4gh0zX9K0fUV1WxkWextr23uba6ktLZ5Y3iuVU74I2WWKVcMoV38k%2BJn7aPiH4DeGfifL8cv2Q/BGneIPAHwsHjuy03QvHQvrO6sjPPAILy6k0uBrCbfA3Kw3EbKshR38phQB6x/wg/wDwUL/6Og%2BDP/hh9W/%2Baij/AIQf/goX/wBHQfBn/wAMPq3/AM1FeaeNP22/h18Pv2fPC3xc8Q%2BF/gbd6h438VyaJ4au9E%2BLME/hT93bXF1Lc3WuyabELeNIbS4DbbaQ%2Bb5US7mkGNr4x/H/AMZ/B34TaN8fLv8AZi%2BGut%2BDf7J0278U6noPxCE8qvd3SQCPSE/soJqoxJG8bSSWhm8xERdxxQB2P/CD/wDBQv8A6Og%2BDP8A4YfVv/moo/4Qf/goX/0dB8Gf/DD6t/8ANRXK%2BDf2pfh38R/2vNY/Zm8FeBvhgbXw3qUun6xLq/jiC28Q3M8VmtxLLYaKtnI11axySxwPO88OHSfajCIGTB/Y5/bd%2BF37SX7Pet/tN/EHwf8ACLw54a0TQotU1GHwl8QF8RX%2BkIYpJZYNTgGm232KdERcRK0zOxdRjaN4B6R/wg//AAUL/wCjoPgz/wCGH1b/AOaij/hB/wDgoX/0dB8Gf/DD6t/81FeQeBf249b%2BJfgTwi3hv9i7w5pXjnxf428VaFB4U8YeL47G005NDluFuHub6HT5ytwywqRbxwSAM0g80pC0p6Twp%2B154d%2BId/8As7eLvAP7Ofh29%2BH37QC%2BRbeJbjXIo7/Rr1tA1TWlg%2BxJaSR3KCPS5IXlFzGA8qlVkAJoA7v/AIQf/goX/wBHQfBn/wAMPq3/AM1FH/CD/wDBQv8A6Og%2BDP8A4YfVv/morLvfiv4h8IftMeG/gj8TP2aPB9hofjm%2B1W18Ha9o/iYX1/IbG2a5aa9sGsIltYXjRgJI7ifbI8KOFMoxzfwX/alk/aY1r4n6J8Bv2Y/Clz/wh0%2BlP4L1HxP4jNhZ%2BK7C7MoN/vg0%2B5e0hP2ed4CqTi4iMMmYll%2BUA7j/AIQf/goX/wBHQfBn/wAMPq3/AM1FH/CD/wDBQv8A6Og%2BDP8A4YfVv/moryG2/bO8fy/so2v7Ub/sW%2BBXtR8S5vDepWlp4/Z4P7Nj1saONVtJ30hHuRJNukjhaGEPFtfzRvFd9%2B1P8WviL%2Bz74s8JW/hD9lv4eeJ9C8W%2BMtG8NWU1341m0/VWur252TPHZro88UkdtbLNduTcoWitpcAEDcAdB/wg/wDwUL/6Og%2BDP/hh9W/%2Baij/AIQf/goX/wBHQfBn/wAMPq3/AM1Fc3P8XfibpH7Yekfsx69%2Byn8O30zXfD%2Bu67Y%2BING8czXF5badYS20MMt3ZS6PFHC9xNeW6BFuZNuJirSCEk9D%2ByR8Rn/aE8FeIdV%2BJX7P3hrwhrvhnxrqPh3UtI0rVV1a38y1ZR5qXL2lsWDBxlfKG0ggFhyQB/8Awg//AAUL/wCjoPgz/wCGH1b/AOaiqHgfxx%2B1Z4O/as8OfBH43fEf4e%2BJtG8TfD3xDrkM3hX4eX2i3VpdabfaJborPcavfJLG6apKSoRGDRIQ2Mg%2BoeLPCfhbTfC2palpvhyxtrm2sZZbe4t7REeN1QsrKygEEECvPvHH/KQv4X/9kZ8ef%2BnbwhQB7NRRRQAUUUUAFFFFABXzj8JvFX7d/wAddH17x34X%2BN/wk0DS7f4heKtD0vSr/wCD%2BqX9xFa6Xr1/pkLS3CeIoFlkeOzV2ZYo13OQFAAr6Orxn9g//kiGuf8AZZviP/6mut0AH/CD/wDBQv8A6Og%2BDP8A4YfVv/moo/4Qf/goX/0dB8Gf/DD6t/8ANRXs1FAHjP8Awg//AAUL/wCjoPgz/wCGH1b/AOaij/hB/wDgoX/0dB8Gf/DD6t/81FezUUAeM/8ACD/8FC/%2BjoPgz/4YfVv/AJqKP%2BEH/wCChf8A0dB8Gf8Aww%2Brf/NRXs1FAHjP/CD/APBQv/o6D4M/%2BGH1b/5qKP8AhB/%2BChf/AEdB8Gf/AAw%2Brf8AzUV7NRQB4z/wg/8AwUL/AOjoPgz/AOGH1b/5qKP%2BEH/4KF/9HQfBn/ww%2Brf/ADUV7NRQB4z/AMIP/wAFC/8Ao6D4M/8Ahh9W/wDmoo/4Qf8A4KF/9HQfBn/ww%2Brf/NRXs1FAHjP/AAg//BQv/o6D4M/%2BGH1b/wCaij/hB/8AgoX/ANHQfBn/AMMPq3/zUV7NRQB4z/wg/wDwUL/6Og%2BDP/hh9W/%2Baij/AIQf/goX/wBHQfBn/wAMPq3/AM1FezUUAeM/8IP/AMFC/wDo6D4M/wDhh9W/%2Baij/hB/%2BChf/R0HwZ/8MPq3/wA1FezUUAeM/wDCD/8ABQv/AKOg%2BDP/AIYfVv8A5qKP%2BEH/AOChf/R0HwZ/8MPq3/zUV7NRQB4z/wAIP/wUL/6Og%2BDP/hh9W/8Amoo/4Qf/AIKF/wDR0HwZ/wDDD6t/81FezUjMqKXdgABkkngCgDxr/hB/%2BChf/R0HwZ/8MPq3/wA1FH/CD/8ABQv/AKOg%2BDP/AIYfVv8A5qK9DvfjH8ItN1EaPqPxU8N292elrNrlukh/4CXzWqfFHhkaadZPiKx%2Bxjrdfa08sf8AAs4qFUpu9pLTzX%2BZmqtKV7STt5r/ADPJ/wDhB/8AgoX/ANHQfBn/AMMPq3/zUUf8IP8A8FC/%2BjoPgz/4YfVv/moro/Ev7XX7KHgx2j8X/tO/D3SmX7y6j40sYCPweUVw2v8A/BUv/gnd4a3f2j%2B2D4Hk29f7P1cXf5eQHzXPUzDAUvjrQXrKP/yRy1c0yyh/Erwj6zgv/bjW/wCEH/4KF/8AR0HwZ/8ADD6t/wDNRR/wg/8AwUL/AOjoPgz/AOGH1b/5qK841H/gt5/wS/02c2r/ALT8c8g/htPCWrzA/RktCP1qv/w%2B1/YDvvk8K%2BMfFmuy9odI%2BH2qux/77gWuV55kqdvrMP8AwJP8rnG%2BJOHk7fW6fynF/lc9P/4Qf/goX/0dB8Gf/DD6t/8ANRR/wg//AAUL/wCjoPgz/wCGH1b/AOaivMD/AMFd/AOp8eBf2Lf2j/EufuPovwnlZD75klTA96Rv%2BCnHxb2m8T/gl3%2B0CLXGVkl8OQJJj3jMuV/Oj%2B28r6VL%2BkZv8qYv9Y8mfw1b%2BkKj/Kkz1D/hB/8AgoX/ANHQfBn/AMMPq3/zUUf8IP8A8FC/%2BjoPgz/4YfVv/morwzXP%2BC0eleGy0Wu/sKfGjT5U%2B%2BupaVY26r/wJ7kVyOrf8HBvwg0SQx6r%2Bzh4ltW7R3XivRY3/wC%2BTdZrCfEuR0/irJeqkvzij1cNUrY1Xw2Hr1P8GGxU/wD0nDSPqH/hB/8AgoX/ANHQfBn/AMMPq3/zUUf8IP8A8FC/%2BjoPgz/4YfVv/mor448T/wDByT8LdOtml8M/sw6tfSKOUvfG%2BmwDPsYzMT%2BVcnp//Bx38UfFn73wd%2BxNbOrn5Ix4ovbph9TDp2D%2BFcs%2BMeHYS5fb3flGT/Q97D8M8Y4yk6mHybHTiuqwWKt98qNNH3n/AMIP/wAFC/8Ao6D4M/8Ahh9W/wDmoo/4Qf8A4KF/9HQfBn/ww%2Brf/NRXxb4f/wCC237d/ieUL4U/4Jea/rwY8DRrfV3/AFNhj8a9D0D/AIKWf8FP/ESIbL/gjp4jQsOPt3ixrT8xPaLj8a1pcUZTW%2BDnfpSqP8oHn43L88y3/e8vxNP/ABUJJ/dzN/ekfR//AAg//BQv/o6D4M/%2BGH1b/wCairf7K3xG%2BNPjDWPih4E%2BOmv%2BF9W1TwD8QotDs9V8J%2BGrnSbe6tZdB0fU1Z7e4vbxlkWTUZULCXaVjQ7VOc%2BCzftd/wDBY/XLYSeGP%2BCVGjaeT0k1f4r6c4H1TzImrtv%2BCZ3iH47%2BK5vjpr/7TPgDTPC3je4%2BM0X9taDo98tzbWuPCXhxYQkiu4bdAInOGOGYjjGB6OFzKhjKjhCE1pe8oSivvklr5HnUMSq7a5Jx/wAUXH83%2Bh9P0UUV6B0hRRRQAUUUUAFFFFABRRRQAUUUUAFFFFABRRRQAUUUUAFFFFAHMfGjQ/FviP4W63pHgX4lal4P1WSzL2niPSLK0uLmyKMHYxx3kM0DMyqyfvI3A35wSBXnn7NHiz4lfH3/AIJ8/DP4heJPi1d6J4q8XfCjQNW1nxnYafY%2BfDd3Gn289zcpDNC1qjFmkIDRGJd33CBtr0/4jfD/AMP/ABU8E6h8PvFVzq8OnapCIruTQfEN7pV2FDBsR3djLFcQkkAExyKSCVOQSD5np37AP7Mmm/s63P7JsWieLZ/h9d%2BGD4dl8O33xQ8QXKrpZK/6Kk0t800aBVEQ2OCIsxAiMlCAVf2CPiN8SPil8Ldf8V%2BL/H2oeMPDjeM7uL4aeN9Y021tL3xHoCwW4S%2Bljs4YIGVrv7asMsUMaT2sdtMFPm728t%2BLfxl8Oa7/AMFkPgH4C0iw8QQXenfDj4kWOoS6r4T1GwtZ2d/Dcy/Zbm5gjgvlH2c7mtnlVPl3Fdy5%2Bmfg98GvBnwL8Jt4K8B3viOawNyZ1HibxnqeuTRnYkexJ9SuJ5Y4gsa4iVhGp3EKCzE/LX7Z%2BsNo/wDwWM/YtLNiO78P/E62kP8AvWGjlR/30q1y4yfs6HN5x/GUV%2Bp7vDeG%2Bt5p7LvTrv8A8BoVpf8Atp9n0UUV1HhBRRRQAUUUUAFFFFABRRRQAUUUUAFFFFAHmepfsyfs2/GjR9B8U/GL9nvwP4s1O38P2trBqPiXwnZ388cCqXWJZJ42YIGd2Cg4BdjjJNUv%2BGB/2Ff%2BjLPhL/4bnTP/AIxXJ/F7/gpB%2Bxf%2Bx9L4c%2BGn7Rfxl/4R3W77wpZ6na2X/CO6jd77V98Syb7W3kQZeGUbSwb5c4wQTyH/AA/N/wCCWX/R0X/lk65/8hV4uIxfDtOvKNedJTT15vZ3v53V7%2BpovEPEZUvqkc4nSVPTkWJqQUetlFV4qO%2Byit9tT1v/AIYH/YV/6Ms%2BEv8A4bnTP/jFenaBoGheFNCsvC3hbRbTTdM020jtdO07T7ZYYLWCNQkcUcaAKiKoCqqgAAAAYFfK3/D83/gll/0dF/5ZOuf/ACFX094B8deFfih4E0X4l%2BBdU%2B3aJ4i0i21PR73yHi%2B0WtxEssUmyRVdNyOp2soYZwQDxXRgcRk9aclg5U20teTlvbz5UtL9xS4uq8Sfup5jLE8mtnXnV5b6XtKrUtfa6SvtfoeE/DD9hfxX4A8eeFNa1P4z6bqGg%2BB/ih4q8X%2BGtLh8ISQXYXXf7Wee0uLk3rpKYpdVYpKkMX7uEIyFmMg8j1r/AIIwy694p8e%2BJLz47eHYrjxl4C8f%2BF/7atfheia3cx%2BJpFcXGq6ib4vqj2W0RwoFt08sbdqYDD3aw/b8%2BEer6dYzaT4U8RzX11ovi3UrvSZfsFvLpaeHL1bDUY7uSe7SCBhdukCM0vlsSWLrGruvCeDf%2BCn3gf47TfDjUfgJBZy2Ou/GfUfA3jeC/vrHUpdPNv4N1fxChtrnSr64s5XY2lgd6TzIEmmjYJKp8r0iDrpP2GA/iHVdfHxQwdT%2BOuk/EcxDRP8AV/YtI0/TfsGfP%2Bbf9g8zzsDb5u3y227m7z41/A7UP2gP2edd%2BCXj/wAYxW9/rVg0aeIND0swCyuklE1rdRQSyy5aGVIX2s7K7RnOA2B88eLf%2BCq0r/BDwp41%2BEXwp1/xHe6pB8PZPEfimXw/Bb6NoreJLvTlSC5gGpNcx3DWt75qpAbqKBpoPNmZSS30h8Yfjx4f%2BEnwC8efH260bUrmx8BeH9Y1S%2BsrjT5rSW4GnQyyyrGJ0UsreSwSVQ0bghkZlIJAOd%2BAv7P/AMUPhTq/iLx341%2BLWh%2BIfFXjjxbFq3jTUbLwfNYWklrBpkVhb2VjbtfTNabPs8EpklluSzNcDaolTyeL/Zx/ZL/an%2BB%2Bi%2BOL/wAWftMfD/xZ4x8a3Z1G78Z3PwivYJ5r4OBCLmM67IstnBABbw2kJtxGoDBy7SM%2B3%2By18bPj94h%2BKnib4DftKjwjc%2BItG8FeHfFdrqXgvSrmytBa6rJqUBsmjubm4d5befS5szh0WVJoyIoyGWua8ZftE/tUfDL48a/8I7658DeNJZPhf4i8XaPpXhfwpf2974eNpNDHpkN%2BzX04vReGSaNDGlq7PZTeWjqrmIArp/wTz8Xhx8UZvjN4bl%2BKcXxhf4i2viGT4eP/AGFBqL6APD7wrpQ1ATCI2A3Fvtvmm5PnGQj91WZa/wDBOn40%2BF5vhVo/gn9pnwtL4Y%2BGUVxqC%2BFfFfwvuL60vvEVxeTXL6sq2ur2iwiETOlpbMssdru3gySJE0WHp/7b/wC01f8A7Id/8Q9B17RNe%2BJmn%2BKPC1l4j8N2n7PHim0u/ClnqN5Zx3ktxoEl%2B%2BpX3k28t1PHLE0SSCAlQwRq634r/tQfGvRf2Ml/au%2BE3x/%2BFeq2fh7RNUuvEF3qnw21aBNd1C3nMEOlWtmdUW40y5a4R7N45jdTC5KoIN%2BY6ANWX9gCaL9oST4maN8TNMsvCVx8U1%2BI1z4bh8I/8TN/EA0kaaSNT%2B1YFo6qJGi%2BzGUszp54ibywx/8Agn9c/F7xdrfjL9sb4k6Z4tn1Pw3peiWdr8OtE1HwdHbQWGprqcEzTW%2BqT3bXCXccTo6XESRhGVU/eSFsDVf2/fEN9%2B1uvwJl8TeH/Amm%2BH5vDVn4ptfEngXVdXmu9T1eNJksBqVpPDZaQSs0EEEt15v2q5keOOP91iTnPBn/AAVPtb/TPif8bvFni/QYvCXgnw/401TRfAsPgPVbfU9TtvDs80U88OuTzjT72QrbM8lpbwM9t9ojWSTMb7gDqNH/AOCZVt4D%2BAWsfArwL468Na/b638TtW8W3M3xs8J3/jmC3F5cXE0UcEOoasClzD5qD7UZGErrJI8ReZ2rU8Q/sJfE/wAP6d8APBv7Pnx18NeHvDfwGv4r6ys/Ffw/uNYvdZuBouo6M7y3EGqWaRB7bU7iQgQsfPCPnYDEeQ8I/t0fGnxP4B0zw9onxM%2BHusfETxb430XQdMtR8M9c0i08Mpe21zePc3Ftf3qXGrW/2ayuzb3ULWkV00WFKDcV57xR/wAFP/iPp0Hh74Zap4h8J%2BEvFsB8Znxz4pn%2BHOt%2BI9Mt4fDusrpL3EOnadcpcQW9wW%2B1NPPceVZxrsleRnV6APX9G/Yy%2BLGo/tKeO/jF8Yvjb4X8W%2BHPG%2BmXWhRaE/gS%2BstU0Pw9JCVXSrLUYtXKQK0uJ551tRLcOBlkEVuIK/wi/wCCc/h79nHxB8UfFX7Pnxh8U6PfeOvBljoXhk%2BI/E2s%2BIIvDMlpbTxQ3ATUNRk%2B0hHljZY8xFFiMaOqyNjivFv/AAUE%2BL%2BkftqWXwO0S28NXHhabxnoGhQOvhXUZotTtdR0uO9bUB4gjuf7NsJleRki0ueNrq5WKN4yRdwkaX7O37Xf7Tvxz1bwla3934D0m1%2BNHwt1bxx8LLmLwve3DeHrazvNMjS21NDqCf2i8tvq9pLuhNmEeKZMMNjEA6740fsReKte/Yx8K/sZ/s5/FXQfBel%2BGLbQ7NNS8SeDZ9bMtppclvLCixw6hZFZHltoi8jO%2BVMg27mDr2%2Bt/ADxH47%2BLvwu%2BLnxL8f2V9L8ONJ1KV9K0zQXtbW%2B1%2B7tYbT%2B1IxJcytbpFbNqUSW5aVtuonMx8v5/H/hh%2B0L%2B1r4x/Zz%2BJfxq8XfG/4T6Jp3gXx7rttZeNG%2BFWpSaffaBo0TW9/cNZf28HSQahb3yrKLlkMNsp8smTcvGa5%2B3f8AtseGPgbF498S%2BEfANh4j8Afs72fxZ%2BMGiXOgXw%2B2RXJvJF0bTx9v/wBBuFh02%2BVp5mukEoiHllWYgA%2BnvCPwGk8O/tF%2BOf2jdV8WLqOo%2BKdD0jRNHtH0/Ymi6bYi5lEIbzD5rS3V5czO4EeVMMZB8kOea/Y6/Z4%2BOn7Pn/CcL8Y/jZ4T8Yr4u8X3PiK3Hhn4fXWhGxubkk3CN5%2Bq33nRnbFsA8tk2vuaTcNnk2mft8fGrVP274/2dI9M0CDw7deP7nw1Bbz%2BDtSDJbx%2BHm1SPUF143A064uWmCxnRkiF4sTtMSEidq2vBf7WPx8%2BHXxK%2BMmn/tDeLvBfizwt8LtK0KztrnwH4CvNIv8AUfFGoh5V0aOO51a9WaUwz6QI1BQvJqka8BckA%2BlPHP8AyJOsf9gq4/8ARbV5b44/5SF/C/8A7Iz48/8ATt4QrN/ZI%2BNnxh%2BPv7JWt%2BN/j5onh7TvFtj4k8Y6Bq9n4VE32GNtL1nUNNQRmZ2d/ktVLOSodtzBIwQi6Xjj/lIX8L/%2ByM%2BPP/Tt4QoA9mooooAKKK4748fGzw1%2Bz98OpfiJ4m0jU9U3alY6Zpmi6JDHJe6pqF7dRWlpaQLLJHH5kk80a7pHSNAS7uiKzAA7GivHYf22Phkv7O%2Bq/tC6t4T8S6euia%2B3h/VfB91Z27axBrf9oJp0embIp3gaaW6lhjjdZjA4njkEvltvqDTP2x7zxH4S1DVvBf7LPxK1vxDoPiaTQvFngSwbQ11TQbtbSG9H2mSbVI7Jle2urSZDDcyl1uo8DO4KAe014z%2Bwf/yRDXP%2ByzfEf/1Ndbr0L4OfFjwZ8ePhL4Z%2BNnw6vZrjQPFug2mr6NNcW7RSPbXESyxl42%2BZG2sMqeQcg9K89/YP/wCSIa5/2Wb4j/8Aqa63QB7NRRRQAUUUUAFFFFABRRRQAUUVmeJ/Gvg3wTYvqfjLxbpmkW0aF3uNTv47dFUclizsAAPWk5Rirt2QpSjBXk7I06K%2BUvGf/BWf4Pa14nn%2BG37Hnw08U/HXxPA%2ByeDwJZEaXaN2NxqUoEMaHs6eYvbIqkmpf8FnvjUwntPDnwi%2BCmmv83kajdTeItWT0UmLFqw7E8H0ry3nGElJxoKVVr%2BSLkv/AALSH/kzPFln%2BBnJxwylWa/59xcl/wCB%2B7D/AMnZ9dUV8lP8AP8Agr9cqbeT/goF4Btlf5WuLf4VRPJGD/Equ%2B0kdQDxWF4z/wCCe%2Bj/ANn/APCRft3/APBTj4la9bEEz20vi238LaNJ6k20JCj8HGKmWY4tq8MNJec5Qgl8%2BaX5GlHG5vjKqpYTAVJTeybgr%2Bii6kn6Ri2fV3xC%2BMfwk%2BEmmyax8U/ih4e8N2sUe%2BS413WYLRQvrmVlr5w1z/grv8GfFurz%2BEP2P/hD49%2BN2swyeXI3grw/JHplvJ6T31wFSNenzqHXnrXg7x/8G7H7P%2BupFpOjeG/HOvmbMVtYrqXiyW9lHpkz27E%2BhIU17RoX7ffx28TaTB4d/Y6/4JW/EW60yFPLsJvGP2PwjYInZ4ll3bo%2B4ChSfavMnm9atLk9vTj5U1KtP8I8q%2BaZ9tQ8L/FzH0lVxGEjgaL%2B3WcaV15Sxc8NH5xp1PQsQ3v/AAWe%2BNL/ANt2ek/CP4L6cvz2%2BjanLN4g1Nz/AHJpYsW4X3TDZ7VN/wAI5/wXA0//AEKz%2BI/7NeoxNw17f6RrcMyD%2B8EiOwn2PFN%2Bx/8ABaX4rcXGsfBL4T2EnQ2tvea5qcOfXfi2bH86F/4JrfHf4hH7R%2B0d/wAFO/jJrkjcy2vge4t/DFo57q0Vsr5X2yKlU8TV1pRxEn3lUjTX3NO3ygjf/iGGR4PXNeJoQl1VGpWxMvuoUKdFfKp83uR33wL/AOCtfiC1e68df8FD/AHgm1Azcy%2BFvhjDdCNe%2BHvnGPTJ6V5l44%2BE3wR8NB7v9o7/AIL2fEWHUI%2BWg8MfFPTtDOe%2BLWBZGP0A4r1iy/4IrfsEXN0mo/ETwV4n8a3cZyt14u8dalcsW9SEmRT%2BIxXpvgX/AIJ6fsL/AA3KSeEP2SvAEEsX%2Brurjwxb3M6/SWZXcfnT/snH1vjgv%2B361af4R9mhf6qeDmG/3nG5hi32UYUo/fVxM3/5In5HwFq/xA/4Jwfb30Oz/wCCun7XfjUp/wAfGnaL4v1S8ib0BZNPVWB/2Wqsvhb/AIJUeJWB1T9lf9q34sSk5Vb3TtbuWmPrxcQA1%2Br%2Bj6Jovh6xTS9A0i1sbaP7ltZ26xRr9FUACrVH%2Brcp/HKn/wCC3L/05Wl%2BQfU/BejpHIKtX/r9jZO/qoUGl6L7z8ubL4Vfsmanpx0v4Z/8G/8A8UruJ/uP4ss/7MkPpmS4upHX86yv%2BHfmo%2BKdSGpeEv8AgghoGhk/6u68UftCyvF/wK1gn4%2BmK/VuirfC2FqW9pNfKlRj/wC2S/M0eN8N6Vvq/CmC029rLE1bf%2BVKKfzR%2BbHhr/gm5%2B1uqqNA/YY/Yu8M2/8Ad8QaLqetXSf8CdXRvxrutA/4J2ft2ptWz%2BNnwC8CDs/gr4B2NwY/937Sq5/Gvu2iuinw1l1PrP8A8CUf/SYR/M6qXGOHwf8AuOS5bRtty4CjJ/fVlVv80fIenf8ABOz9ri5gFv4t/wCCqPj0Kfvx%2BEvB%2Bm6In/AVhDBasD/glJPqX7zxb/wUa/ae1Bz9%2BOL4pfZ4T/2zS34/OvrSiupZHln2oN%2Bs6j/9yI7F4ocaU1ahWp0l2p4bCU18uXCO33nyWf8Agjr8Ab3/AJGX4%2BfG/Wv7w1T4pXT7vrtC0q/8ESP%2BCed64fxb8NPEPiEg5/4nXj3VpMn1%2BS4WvrOij%2Bwsm64eL9Vf82x/8RW8Sl8GbV4f4Jqn/wCm6dP8D5w0P/gkR/wTb8PBRYfsleG5NvT7dLc3X5%2BdK2a7DQv%2BCfn7CvhshtI/Y7%2BGaOv3ZZfBNjK4/wCBPET%2Btev0V0QyvLKXwUIL/tyP/wAieTiuO%2BOMdf6xmuJn64iv/wDLUct4c%2BB3wV8HMreEfg/4W0or906b4ftoMfTYgrqFVVUKqgADgAdKWiuuFOFNWikvRJfkkfOYjFYrFz569SU33lKUn98pSf4hRRRVmAV4z%2By//wAlv/aO/wCyzWP/AKhXhevZq8Z/Zf8A%2BS3/ALR3/ZZrH/1CvC9AHs1FFFABRRRQAUUUUAFFFFABRRRQAUUUUAFFFFABRRRQAUUUUAFFFFABRRRQAV8F/wDBS/Vf7C/4KrfsP6ru27tV8YWuf%2Bu/9hxY/HdX3pX51/8ABY%2B8l0j/AIKCfsTeII%2BEsvHmom4b%2B7E%2BqeG42P8A4/XmZxLky2cu3K//ACemfceG9FYnjTC0X9tVo/fhcX%2BqR%2BilFFFemfDhRRRQAUUUUAFFFFABRRRQAUUUUAFFFFAGV4G/5EnR/wDsF2//AKLWtWsoeDNDTKwNfQpkkRW%2BrXMaL7KqyBVHsABS/wDCH6T/AM/eq/8Ag8u//jtAGpRWX/wh%2Bk/8/eq/%2BDy7/wDjtH/CH6T/AM/eq/8Ag8u//jtAHh/iD/gmn%2Bz54l8R/GbxLqGr%2BJhL8bdOtrPXLdNRh8nRBEpLSaahhIgaaci5mEvmpLMqllK/IX%2BCv%2BCd3w58LeLo/iF4g%2BMXj7xT4gPxOk8d3mseIL3T/Mu9TbwrP4X8tktbKGJLcWE5ZY4kjxMiNnZujb23/hD9J/5%2B9V/8Hl3/APHaP%2BEP0n/n71X/AMHl3/8AHaAPnL/h1J8GLPwvoHgHw58Z/iRpHh3SLHwhDqmg6dqeniDxBN4aa1OmXd4z2LSibbZWyS/Z3gjlSJQyfKuPoHWPh1pHi3wPrvw6%2BIV9c%2BI9J8RQ31tqVrqkcKhrK6Dq9mPIjjBiWNzGpbMhUDe7tljc/wCEP0n/AJ%2B9V/8AB5d//HaP%2BEP0n/n71X/weXf/AMdoA8z%2BB37Hul/AuTUtZ0745%2BO/EGv6pDotjdeKPE0%2Bmz3x0jSpJXtNJHl2UcX2YfaLsM5jNyxvJnM/mFZFzvhL%2BxNcfB7x34/8f6D%2B1X8S766%2BIuoXt/rMerQeH5Tb3Uy%2BXBJDOukrcbbSIJFbQyyyQxogDRvzn13/AIQ/Sf8An71X/wAHl3/8do/4Q/Sf%2BfvVf/B5d/8Ax2gDyrw5%2BxzqHhdfE/iPT/2qviU/jbxa2nR6r8RZ4tBbUxZ2PnfZrKOD%2Byv7PSBTc3LY%2Byby1w7F87SvLeIf%2BCang/VNJ8Cad4f/AGk/iboUvgXxNq/iaO7sn0S7Ota9qM73E2q30V/pdxA9yks1w0PlRxRwG4by0XbH5fv3/CH6T/z96r/4PLv/AOO0f8IfpP8Az96r/wCDy7/%2BO0AeTeP/ANhbwB8R/iKvj/XPiZ4whgvbvQr3xd4dsprCOw8U3uj3CXFhdXv%2BiGZJEkihLC1lt45VhRJEdF2VnQ/8E5fgdceItSm8VeI/E2veF7yLxImn/D3VLm0Gj6SdeaRtWe3ENtHcsZ/PuQFnnlWJbmRYljUqF9q/4Q/Sf%2BfvVf8AweXf/wAdo/4Q/Sf%2BfvVf/B5d/wDx2gDw2L/gnN4Fm0/UdQ8Q/Hn4jax4wuptBfS/iJqN3pf9r6KmjSXMmnRWwisEtCkbX19u8%2B3lMwvZxMZAwANV/wCCcHwxuPBWkeGPDHxf8e%2BHdTsNO8QWGr%2BLtHvNOOqa/b65eLfaul41xZSwg3N2qz74IoXhYEQNChKH3L/hD9J/5%2B9V/wDB5d//AB2j/hD9J/5%2B9V/8Hl3/APHaAPFLX/gnR8HNK8eReIfDvjjxfpnhlfEuieIrr4b2l7aHRLvVtItLO10%2B8cyWzXitFHp2nny47lIXezjd42YuX1fgd%2Bw18PPgJ4xPi/wv8RPF2oDTtAvtC8EaXrFzZyWvg7S7y6iuriz08R2qOY2lt7Tm6e4ZUtIEVgibT6t/wh%2Bk/wDP3qv/AIPLv/47R/wh%2Bk/8/eq/%2BDy7/wDjtAHmkv7FHwkk/Y8039iAaprq%2BDbHRrDSryb7ZE17qtpbyxSTx3cjRFZftgjdLlgimRbmbaY2YMsH7SH7EPw4/aZ8RSa/4m8c%2BKtDj1Xwy/hrxnpvhy6tY7fxXoTTGVtMvhPbzP5OXnXdbtBMEup1EgEhFepf8IfpP/P3qv8A4PLv/wCO0f8ACH6T/wA/eq/%2BDy7/APjtAHkth%2Bwl8O9P%2BNMfxZT4k%2BMZNMg8bz%2BMrTwBJd2Z0WDX5rWS2kv1ItReFisssnktctAJZDIIgwUjd0b9jn4Ax/D/AMVfDL4g%2BBbDx3o/jXxpfeJ/E1n480y11OK%2Bvbi5E6B4nhETJbqlvBAChZIrWEFmdS573/hD9J/5%2B9V/8Hl3/wDHaP8AhD9J/wCfvVf/AAeXf/x2gDzP4H/si/Aj9jH4F%2BLPhp%2Bz94HsNC0jV9Y17xDd21hplraqbm/nmuWQLbRRL5UKulvCCCyW9vDHubYDUPjj/lIX8L/%2ByM%2BPP/Tt4Qr1E%2BDNDfCztfTJkExXGrXMiN7MrSFWHsQRXl3jj/lIX8L/APsjPjz/ANO3hCgD2aiiigAry/8Aa3%2BDfjP4z/DCwsfhreaZF4m8NeMNF8S6BHrc8kVldXGn38NybWeSKOR4kmjSSHzVjkMRkEgSTZsb1CigD5t8HfswfFdfgT8RfA/xc%2BGfgLxPqfxG1zUPE2q6KPGd/b6emoz3CeRYpdJp/nxRwW9vaFdQSMTfaEaRbeLC482tv2G/2wPhn8AvFPgf4FT%2BEbDW/i18Tzr/AMUIbz4q62ZrLSP7MtNPax0/XJ9Purye7mi0%2B3El9PCkifaLhohGwhaP7booA4vwv8LdNuPgLpXwe13wlB4Ss4PD1tpr6F4C8UXltDpMUUaotvZX1utpcJHGqBEkRYW2qPlXpXn/APwTp8PWHhL9m6%2B8LaVcX0ttp3xb%2BIdtby6nqk97cuieM9aUGW4uHeadyBzJI7OxyWYkk17pXjP7B/8AyRDXP%2ByzfEf/ANTXW6APZqKKKACiiigArM8Z%2BNfCHw68LX3jjx94nsNG0bTLcz6hqmp3SwQW8Y6s7uQFH1PU143%2B0v8A8FGf2ZP2ZNYTwFrXiS78UeOLlvL074e%2BCbM6nrF1KRlU8mLiEnqPNKZHTPSvJ/Bf7I3x7/bz8W2Pxx/4KN2Y0bwhZXIu/B3wCsLsta25H%2BruNXkXH2qfHPlfdXOCFDPEfLxGZL2joYRe0q9Vf3Y%2Bc5K9v8KvJ9Et14uKzeLrPDYJKrW6pP3YedSSuo/4Veb2UVutTVP%2BCp158ZtSm8Jf8E9P2afFPxgvI5TDJ4qmhOj%2BG7VwcHfe3KgyFeTsVRuA%2BVjSL%2BzR/wAFQv2gSLj9oj9tbR/hnpMvMvhf4K6IRcbT0B1K7zNG4HB2BlJ6dq%2BtNK0nStC02DRtD0y3s7O1iEdtaWkKxxRIBgKqqAFAHQAYrxD9o7/go9%2Byz%2BzXra%2BA9d8YXPibxpPJ5Vl4B8D2R1TWLiXtH5ERxEx7CVkz2zXLiMNCnT9rmWJduyfs4elovnl85Nvsenk3BfEPFeNWFpe1xNR6%2Bzopwgkt2%2BRpqK6yqVYRS1bSOB/4c8fBPWv%2BSnftLfHnxrn/AFg8UfFO5lD/AFESR1m%2BLv8Agl5/wR%2B/Zw0J/iH8YPhd4c0uzjfMur%2BN/Gd7Ikr/AN3FzdFHY/3VXJ9DU58ef8FYf2rR5fw7%2BG/hv9njwrccLrnjFl1nxE8Z6SR2SYggb1jmwwxw1dD8Lf8AglD%2BzjoHimP4o/tBalrvxo8ary3iL4m35v44TnJWCzb9xFGDgqpVyuBhq4lg8HiH/smCi/79VNL1SlzVJfdH1Pso%2BF/h9kL5%2BIsTSdRf8uMMo4qtftKrKTw1LzvVryX8rZyfhj/gpt%2BzzZaUnwt/4J4fsqeMPiZb2DGG2g%2BH3g/%2By9BtGHBV7qZI44hn%2BIIyn1rSHiP/AILM/Gog6R8OvhJ8FtNl5Y67qs3iHVoQem37OBbMfXdivrPTtN07R7CLS9IsIbW1t0CQW1tEEjjUdFVVAAHsKmr045di6kUq2Ikl/LTSpx9NFKX4o9aPFnC%2BUxVPJckoq208TKeKn/4Behh4%2BipSS8%2BvyQP%2BCcP7RnxL/e/tNf8ABTj4q62r8zaf4BjtvC9q4/uMturl07difatnwX/wR0/4J6%2BE9SGv6v8AAv8A4SrVWIM2qeNNbu9UkmI7uk8piP8A3xX09RVxyTK1LmlSU33m3N/%2BTuX5IzreJ/Hk6TpUMdLD03pyYeNPDRt2th6dFtes5HPfD/4RfCj4T2H9lfC34Y%2BHvDVtt2/Z9A0WCzTHptiRRXQ0UV6cIQpx5YpJdkrflY%2BIxGIxGLrOrXnKc3vKTcm/Vycm/m2FFFFUYhRRRQAUUUUAFFFFABRRRQAUUUUAFFFFABRRRQAUUUUAFFFFABXjP7L/APyW/wDaO/7LNY/%2BoV4Xr2avGf2X/wDkt/7R3/ZZrH/1CvC9AHs1FFFABRRRQAUUUUAFFFFABRRRQAUUUUAFFFFABRRRQAUUUUAFFFFABRXMfGjQ/FviP4W63pHgX4lal4P1WSzL2niPSLK0uLmyKMHYxx3kM0DMyqyfvI3A35wSBXgKftNfGW2/4JL%2BA/2kV8SwS%2BPfFfw38HtP4gutPi8uDU9YGn20moNAirERHLeNcGIKsfybcBeKAPqWvzl/4Lmf8S/42/Afxf0/4R631XUd/wDd2%2BI/B6Z/8iV9YfsieNfiXd%2BK/ix8FPib8Rr7xlN8N/Hltpel%2BK9VsbO3vb60utE0zU1S6Wxggt/OjkvZY8xQxgxLCSu4szfGf/Bcn4h6F41ub3QfDul%2BIYtT8E/CfXrm4m1XwjqNhaSP/wAJb4GINrdXNvHBegKHy1u8oXjcRuGfKz3/AJE2IfaDf3Wf6H3/AIVNf8RLyeL2niKcP/BjlT/9yH6bUVFZXcOoWUN/bNmOeJZIz6qRkfzqWvV3PgWnF2YUUUUCCiiigAooooAKKKKACiiigAooooAKKKKACiiigAooooAKKKKACiiigAooooAKKKKACiiigAooooAKKKKACiiigArxnxx/ykL%2BF/8A2Rnx5/6dvCFezV4z44/5SF/C/wD7Iz48/wDTt4QoA9mooooAKKKKACiiigArxn9g/wD5Ihrn/ZZviP8A%2BprrdezV4z%2Bwf/yRDXP%2ByzfEf/1NdboA9mooooAz/Fvivw34E8L6j428Za1b6bpOkWUt5qeoXcgSK2gjUu8jE9AFBJ%2BlfGk/xZ/au/4Kh3D6F%2Bzbdax8JPgXK5jv/ibd2xh17xVCDhk0uJubWBuR9ob5sEEch4jY/ap1fVP%2BChn7T0f/AAT8%2BH%2Bozp8OPBc1vqvx512ylKrdMG32ugo6/wATsu%2BXByoXqGjZW%2By9I0jSvD%2Bk2ug6Fp0FnZWVulvZ2ltEEjgiRQqIijhVCgAAcACvEl7TNq86cZONCDs7aOcl8SUt1COztZyldXSTv87N1c8xM6UZuOHg%2BVuLs6kl8UVJaqEfhk42cpXjzKMXfzT9mf8AYs/Zp/ZF0RtK%2BBfwusdMurhMajrs4NxqWoHOS091JmR8tltuQgJO1R0rM/ax/bn%2BCX7I9nZaT4tuL3XfGGtkR%2BF/AHhm3%2B16vq8rEhRHAvKISCPMfC8EDc2FPl/x2/bg%2BJ/xo%2BJd/wDskf8ABOPT7LXvFtm3k%2BM/iTeJ5mheDFJIOXwVursYbbCu4Bgchtsir6F%2ByX%2BwL8Jf2W7y8%2BIV1qN/41%2BJGtjd4l%2BJPiqTz9SvnIG5YyxP2eHjAjQ/dChmfaDUwryqL6tlkYxhHRzt7ke6ilbnkuuvKn8Um7o/Y8t4PyDg/L6WL4ji4c0VKlgqdoVZxavGdaVn9Woy0avGWIqx1pwhFqq/Kh8Ff%2BCiv7cn%2Bl/tI/EY/An4fXPI%2BH3w%2BvxN4gvoT/BealjbBkHBWEYIJV0BGa97/Zw/Y2/Zo/ZL0RtH%2BAvwk0vRJJU23uqiMzX953JmupS0snPO0ttBPAFenUV2YbLMNQqe2ledT%2BeWsvl0ivKKivU4M545zvNsE8vo8uFwf/QPQXs6Tts52bnWl/fr1KsuyjsFFFFeifGhRRRQAUUUUAFFFFABRRRQAUUUUAFFFFABRRRQAUUUUAFFFFABRRRQAUUUUAFFFFABRRRQAV4z%2By//AMlv/aO/7LNY/wDqFeF69mrxn9l//kt/7R3/AGWax/8AUK8L0AezUUUUAFFFFABRRRQAUUUUAFFFFABRRRQAUUUUAFFFFABRRRQAUUUUAYnxG%2BH/AIf%2BKngnUPh94qudXh07VIRFdyaD4hvdKuwoYNiO7sZYriEkgAmORSQSpyCQeC8EfsSfs5%2BAPgi37N%2BjeGtdvPA58Mv4fXw54h8daxq0EemkBRAn267lZAigLGykNEqqsbKoAHrFFAHI/Bj4F/DT4AeGrrwr8MtKvoYdQ1OTUdUvNX1281S%2B1C7dERp7m8vppri5k8uKKMNLIxVIo0GFRVHx9/wWg0X%2B3tMvLHZu8v8AZv8AH1zj/rjrfgybP/jlfd9fHv8AwU10b/hIPEmpaSqbmk/ZL%2BLLRL6us/hZl/8AHgK4czh7TLa8e8J/%2BkyPqeBsT9T42yuv/LicO/8AyvR/zPpf4D61/wAJH8DvBniHfu%2B3%2BFNOud3rvto2z%2BtdXXk/7Bus/wDCQ/sQ/B/WS%2B5p/hjoRlP%2B2LCEN/48DXrFbYSftMJTn3jF/fGL/U83iHDfUuIMZh/5K1aP/gNWrH/20KKKK6DyAooooAKKKKACiiigAooooAKKKKACiiigAooooAKKKKACiiigAooooAKKKKACiiigAooooAKKKKACiiigAooooAK8Z8cf8pC/hf8A9kZ8ef8Ap28IV7NXjPjj/lIX8L/%2ByM%2BPP/Tt4QoA9mooooAK4748fGzw1%2Bz98OpfiJ4m0jU9U3alY6Zpmi6JDHJe6pqF7dRWlpaQLLJHH5kk80a7pHSNAS7uiKzDsa8v/a3%2BDfjP4z/DCwsfhreaZF4m8NeMNF8S6BHrc8kVldXGn38NybWeSKOR4kmjSSHzVjkMRkEgSTZsYAzYf22Phkv7O%2Bq/tC6t4T8S6euia%2B3h/VfB91Z27axBrf8AaCadHpmyKd4GmlupYY43WYwOJ45BL5bb6x7n9v3wfHocNpZfA7x7eeOZPGs3hWX4V2qaSdcttSi01dVkWR21AWCxjT3huvN%2B1lClxCoYyyLGcfwd%2BzB8V1%2BBPxF8D/Fz4Z%2BAvE%2Bp/EbXNQ8Taroo8Z39vp6ajPcJ5Fil0mn%2BfFHBb29oV1BIxN9oRpFt4sLjz74Zf8E%2B/jr8C57L48fDGy8I3PxDk%2BKOpeKdY8J6/wCP9Xu9MktbzQbfRTa/23c2lxfXE6pY2V0bqa2Jkk8%2BPZGjo0YB9X/B74reDvjp8K/D3xj%2BH13NNovibSINR01rmAxSrHKgYJJG3Mci5Kuh5VlZTyDXnv7B/wDyRDXP%2ByzfEf8A9TXW60fgF%2BzRF8Mf2SvDv7NPjXxRe3s1loK22u6v4d1W70mSe7djLcy201tLHcWymZ5CmyQOqEAseScD/gnT4esPCX7N194W0q4vpbbTvi38Q7a3l1PVJ725dE8Z60oMtxcO807kDmSR2djksxJJoA90r5k/bW/bG8d%2BGvGVh%2Bxv%2Bx7ptvr3xo8VW29Glw9n4RsDgPql8cEKFBzHGQSxKkq2UST2H9pz4w2n7Pv7O3jf423jJ/xS/hi91GBJOks0cLGKP6vJsQe7CvI/%2BCW/7N9l8H/2a9I%2BLXjCKfUPiP8AE7T7fxH4/wDEuqSebe3tzcp5yQu55VIkkCCMYUEMcZJNeVjqteviI4KhLlclzSl1jG9vd/vSd0n9lJy1djxMxrYnE4qOX4eXI5RcpzW8YX5bR/vyd0m9IpOVm1E7/wDY0/ZP8I/sd/Ba3%2BGGgarPrGqXd3LqXizxPfD/AEnXNUmO6e7lJJOScBQSSqqoJY5Y%2BKftdfG34l/tXfGG5/4J1fsh%2BJJdOljhVvjP8RrI5Twxpz8GxgccG%2BnXK4BygJ6EO0Xef8FFP2nvF/wO%2BGel/Cv4GQre/Fj4n6j/AGB8PNPUjMMzgCbUH4O2K2jbeWIKhim4bdxHY/sc/soeBf2O/grY/C3wk7XuoSub3xT4iuctc65qcgBnu5nYlmLNnAJO1Qq5OMnmqU1Xmstw3u0oJc7W6T2gn/NJayd7qL/mndfr3CuAy3gbh6jxBiKSlVk5QwVGSTjenpPFVIu/NTozfLSi01VxF3PmhRmp9F8A/wBn/wCEv7Mfww074QfBXwfbaNommxgJDAg8yeTADTTP1llbALO2SfoAB2dFFe3Tp06NNQppKK0SWiSPhcZjMXmOLqYrFVJVKtRuUpSblKUm7tttttt7tv8ARIoooqzmCiiigAooooAKKKKACiiigAooooAKKKKACiiigAooooAKKKKACiiigAooooAKKKKACiiigAooooAK8Z/Zf/5Lf%2B0d/wBlmsf/AFCvC9ezV4z%2By/8A8lv/AGjv%2ByzWP/qFeF6APZqKKKACiiigAooooAKKKKACiiigAooooAKKKKACiiigAooooAKKKKACiiigAr5q/a70X/hJP2j9G8O7N32/9mr4n223133nhRcfrX0rXiXxLsIdU/b5%2BG%2BmXAzHc/BLx/FJ/utqvhAH%2BdRVh7SlKHdNfemv1OrA4h4TG0q6%2BxOMv/AZRl/7aY//AASh1r%2B3v%2BCc3wivt%2B7y/CMVtn/ri7w4/wDHK%2Bha%2BUv%2BCJF/Nd/8EzPhzZXZ/f6e%2BsWc6/3Wj1e8UD/vnbX1bXBk0/aZPh5d6cP/AElf5H1niXh1hPEbOaK2jisR/wCnqj/9uCiiivSPiQooooAKKKKACiiigAooooAKKKKACiiigAooooAKKKKACiiigAooooAKKKKACiiigAooooAKKKKACiiigAooooAK8Z8cf8pC/hf/ANkZ8ef%2BnbwhXs1eM%2BOP%2BUhfwv8A%2ByM%2BPP8A07eEKAPZqKKKACiiigAooooAK8Z/YP8A%2BSIa5/2Wb4j/APqa63Xs1eM/sH/8kQ1z/ss3xH/9TXW6APLf%2BCvt1c%2BPfhN4A/ZD0mdxdfGX4n6Tod6kTEOmlwzC6u5hjnCCKLOOzGvqfWtY8N%2BAfCd34g1m7g03R9F06S4u52G2K1toYyzMcdFVFJ%2Bgr5V1/wD4vz/wWV0PR8edpPwJ%2BF1xqMh6iHWtYcQqhHTJs1Dg9ePxq5/wVf8AF/iHxZ8OvCP7EXw41J7fxN8dPE8ehNNBzJZ6LFtm1O6x3VYQEYd1lb0r55Yr2DxmOtdpqEV3cEopL/FUnb5PsbcAZC%2BLuMpUHPkhUqKnKfSFGhFzrVPSEfbT83FLqZX7AHhXxF%2B1b8Yte/4KffFzSJrdNdgk0X4M6Her82j%2BHI3YG6Kn7s90%2B5ieoUthikgA%2BxKzPBfhDw98PvB%2BleAvCOmpZ6VommwWGmWkf3YbeGNY40HsFUD8K069TL8J9TwyhJ3k9ZP%2BaT1k/v0XZJLofQcXcQf6yZ3PE0oezoQSp0KfSlQp3jSgvNR96b3lUnUm7uQUUUV2nzIUUUUAFFFFABRRRQAUUUUAFFFFABRRRQAUUUUAFFFFABRRRQAUUUUAFFFFABRRRQAUUUUAFFFFABRRRQAV4z%2By/wD8lv8A2jv%2ByzWP/qFeF69mrxn9l/8A5Lf%2B0d/2Wax/9QrwvQB7NRRRQAUUUUAFFFFABRRRQAUUUUAFFFFABRRRQAUUUUAFFFFABRRRQB5h%2B2n8XvFXwD/ZM%2BIfxj8DR2p1vw/4UvLrR3voi9vDdCMiKWVQQWiRyruuRlVYZGcjzLwX8YvjD8JNI/aC%2BHvxC%2BOcXii5%2BFXh2DXNC8feN9NtLUQxXGkyXBj1BdMt4ImjgntpZC0UKv5EyKQ7Lvf6J8aeDfCvxF8Hat8PvHWgWuq6Jrumz6frGl3sQeG8tZo2jlhkU8MjozKR3BNcF4D/AGNf2e/hz4a1TwhoPhXVbvT9eF0PEcXiHxfqmrNrYuLWK0kW%2Be%2BuZnvgLaCKFBOZBFGgSPYCQQDx/wD4Ju/G39pLx/4y8ZfD39pTUvGMV/pnhHwtrdho3xG0zRLfWYjqC6gtxcodDRbRtPkltNkCSH7ZHJb3IuFQNCD1N/8AE7w34x/4KbeC/Bmk6b4hhvPD3we8cR382q%2BEdRsbSUvq3hLBtrq5gjgvQNpy1u8gXI3Eblz6L8C/2W/gr%2BzhJqV18KtA1SK71e2tLbUNR17xTqOs3cltaiQWtsLjUbieVLeHzpjHArCNDNIVUF2J5vxx/wApC/hf/wBkZ8ef%2BnbwhQB5j/wRm/0D9lLXvCHT/hHvit4m07b/AHdt8z4/8iV9aV8l/wDBJ/OmQ/tD%2BEG4/sr9p3xUsK%2BkLm2dPzy1fWleTkWmUUV2TX3Smv0P0DxU97xEzGp/POM//BlHD1P/AHIwooor1j8/CiiigAooooAKKKKACiiigAooooAKKKKACiiigAooooAKKKKACiiigAooooAKKKKACiiigAooooAKKKKACiiigArxnxx/ykL%2BF/8A2Rnx5/6dvCFezV4z44/5SF/C/wD7Iz48/wDTt4QoA9mooooAKKK8/wD2l/jjc/AH4axeLNF8Ir4g1rVfEOl6D4b0OTUfscd7qOoXsVpAss/lyGCFWl8yWQRyMsUblUkYKjAHoFFfP15%2B3JfaB%2ByZ48/aF8WfCMW3iD4b6vf6R4r8KWeume1tr21uFiaUXxt0P2HypIrtrloFaO3ZnaEMjR15hff8FdbCy%2BC1h8VZ/CPw2trW%2B%2BIt94Vj8a6j8YxD4ClFtp3243kPiL%2BzW82N23WaD7Ku67guIc/uwzgH2hXjP7B//JENc/7LN8R//U11uu5%2BAnxSl%2BOHwP8AB/xmm8Haj4dfxZ4ZsdXbQdXXF1p5uYEm8iUcfOm/aeByOg6V4l8HvHH/AArH9gr4sfEjzvLPh/xp8WtSD5xtMHivX5Qf/HaipONKnKctkm/uTf6GdWpGjSlUltFNv0Sbf5HPf8EoQfipJ8Z/2z7oeYfip8U7waHc9fN0TTc2dlz3xiZfTioP2V/%2BMsf%2BChvxQ/a9uv8ASPDHw1jPw6%2BHbnmOS4jPm6pdp2z5jCJZBndG%2BM/LVP8AZx8XL%2Bxt/wAEPNC%2BJKOLa50b4Ry61p5PGby9WS5tx/wKa5jH/Aq9f/4Ju/BRf2f/ANh74b/Du4s/Jv8A/hGodR1oMPnN9dj7VcbyeWYSSsuT2UDtXzGApyrfVKEvsx9tPzlJvl/8mnKX/bq7H2HAUJcPeFWKzZ/x8Xy4WD7KrH61i5LzcHSo%2Bk5Lrr7fRRRX1R8mFFFFABRRRQAUUUUAFFFFABRRRQAUUUUAFFFFABRRRQAUUUUAFFFFABRRRQAUUUUAFFFFABRRRQAUUUUAFFFFABXjP7L/APyW/wDaO/7LNY/%2BoV4Xr2avGf2X/wDkt/7R3/ZZrH/1CvC9AHs1FFFABRRRQAUUUUAFFFFABRRRQAUUUUAFFFFABRRRQAUUUUAFFFFABRRRQAV4z44/5SF/C/8A7Iz48/8ATt4Qr2avm343/EW38Hf8FT/2e/CV1IAPFvwp%2BJGn26nvNFdeFbwEe%2By2l/M1E5xpxvLy/F2/NkVKkKUeaW2i%2B9pL8Wjnf%2BCdn/Eo/ag/ar8IdPI%2BLsWo7f8Ar7skfP47K%2BtK%2BS/2Ps6N/wAFO/2tfDh4juX8Fajbj136TKJD/wB9AV9aV5mS6YHl7TqL7qk/8z9D8Tff4qVb/n5h8FP/AMCwWG/WIUUUV6x%2BfhRRRQAUUUUAFFFFABRRRQAUUUUAFFFFABRRRQAUUUUAFFFFABRRRQAUUUUAFFFFABRRRQAUUUUAFFFFABRRRQAV4z44/wCUhfwv/wCyM%2BPP/Tt4Qr2avGfHH/KQv4X/APZGfHn/AKdvCFAHs1FFFABXn37S/wADrr4/fDWLwnovi9fD%2BtaV4h0vXvDeuSad9sjs9R0%2B9iu4Glt/MjM8LNF5UsYkjZopHCvGxV19BooA%2BcJf2FvHGq/s/wDi34O%2BIvjtYTar4z8Rf8JRrPiOz8HPEr68NUivkb7M966tpoS2tbQ2TMXeCJw9yxkLDHtf2APjHpXidvjXo37SPhtPiRdfEC/8UaneXXw1ll8NyvdaJaaK0UelDVFmidbaxhcTm9ZzJJc7spMY1%2Bp6KAPNfg/%2By78OPhn%2Byx4b/ZK8T6daeMfDWheF7XRLu38SaZDNBqcUUaqfNt2UxBCVyIgNiDCgYUV8gfGy98PfBD/giV8Y9C8C6BZaRpsHj/x7oGj6RpNokEFvBcePtTskghijAVEVJcBFAAUYAwK/Qmvzj/aO/wCKl/Y%2B8C/BZPn/AOE%2B/bf8Q6PcQ%2Btv/wAJ5r08jEf3V8pc/UV5mdSlDKK/Lu4tL1laK/GR43EM5QyLE8u7g4r1laC/GZ6F/wAFEvBoP7PPwE/4J9acM/8ACe%2BNfD3h/VbZD10bTY457xwB1CeTCcdK%2B2URI1CIoVVGAAMACvkbVB/wvL/gsxplljztL%2BBvwpmuyevkazrEgj247brJQ2evFfXVZZZGM8TiKy25lTj/AIacUv8A0py%2B4/WOLYRynhnI8lhpyUJYia/v4qfNG/msPRor0l2sFFFFewfABRRRQAUUUUAFFFFABRRRQAUUUUAFFFFABRRRQAUUUUAFFFFABRRRQAUUUUAFFFFABRRRQAUUUUAFFFFABRRRQAV4z%2By//wAlv/aO/wCyzWP/AKhXhevZq8Z/Zf8A%2BS3/ALR3/ZZrH/1CvC9AHs1FFFABRRRQAUUUUAFFFFABRRRQAUUUUAFFFFABRRRQAUUUUAFFFFABRXmH7afxe8VfAP8AZM%2BIfxj8DR2p1vw/4UvLrR3voi9vDdCMiKWVQQWiRyruuRlVYZGcjzLwV8dviz8B9J/aC8MfE3x/qXxMk%2BD3h6DxHo%2Bt6tp9jZ31/BNpMl01jONPt4Lcus1rKVdIVPlXESsHZC7gH05X59f8FZvGF38MP%2BCjf7GPxWgylvpGt%2BJLbVLgHAgs7668PWUzn2xOAfrXtv8AwTz%2BOXjn4lW2o%2BHfjP49%2BIV94ym8K6J4ln0jxx4c0TT7WKxvxciO60tdLQuLSSWCdBDeyyXkIgQShS%2BX%2Bev%2BCxt/pHxw8Sar4K8Jab4jt9c%2BH/wM8Y659u1HwhqNjbLLZ694NuzJaXVzbpBegRwShmt3lCBhuI3Lnzc4U/7LrShvGPMvWLUv/bfxPIz9VP7Gryp/FGPMvWDU/wAeRr5ntPwc/wCJJ/wWO%2BMumdP7c%2BFPh3Ucf3vJke3z%2BuK%2BtK%2BIvEvxCtfDX7f37Ov7YunOI9A%2BO/wzbwlqsqn93FO8cep6ef8AekkcxDvhT%2BP27WOTzi414LpUk/lPlnF/NSP1bjuUcbRyfM6TvTr4HDpP%2B9QVShNeqcIfKUX1CiiivYPgAooooAKKKKACiiigAooooAKKKKACiiigAooooAKKKKACiiigAooooAKKKKACiiigAooooAKKKKACiiigAooooAK8Z8cf8pC/hf8A9kZ8ef8Ap28IV7NXjPjj/lIX8L/%2ByM%2BPP/Tt4QoA9mooooAKKKKACiiigAr849HP/CbftRfs3/ChPnht/wBoH41eJb9e0f2LxLrP2dj9ZHYD3r9HK/L/APZ88V5/bq8eeMvM/wBF%2BFHw/wDixqnmZ/1N7cfELXj%2BGYEzn2ryM6mlhYRe0qkPuUud/hA8rNaFTG/VsFT%2BKtXoQXzqJ/8AtqPof/glT/xdLUPjd%2B2LcDzP%2BFm/Fe8i0S66%2Bdo2mD7HZHPfH74enFfXNfN3/BITwp/whv8AwTZ%2BEukeVs87w699jHX7VdTXOfx87P419I1eSwccpouW8oqT9Z3m/wAZfkfqHidiKdfxAzKFL%2BHSqyow8qeHUcPTX/gFFfNsKKKK9Q%2BECiiigAooooAKKKKACiiigAooooAKKKKACiiigAooooAKKKKACiiigAooooAKKKKACiiigAooooAKKKKACiiigArxn9l//kt/7R3/AGWax/8AUK8L17NXjP7L/wDyW/8AaO/7LNY/%2BoV4XoA9mooooAKKKKACiiigAooooAKKKKACiiigAooooAKKKKACiiigAooooAzPGng3wr8RfB2rfD7x1oFrquia7ps%2Bn6xpd7EHhvLWaNo5YZFPDI6MykdwTXF/Cn9k/wCCHwWs7mx8CaJrW2/uZp9Wk1vxjqmqy6rJLbw2xN7JfXMz3u2C3hijE5kESRhY9gyD6PRQB538Cv2Vfgb%2BzdNqF38I/C99aXGp2dpZXN1qviTUNUmSytfN%2By2UUl9PM8FrD503lW0RWGMyuVRdxzwX7QngjTviZ%2B2H4P8Ahvq4H2TxB%2Bz98R9NutwyPLn1DwlE3H0c19A14z44/wCUhfwv/wCyM%2BPP/Tt4QqZRjOLjLZ6feTOEakHGSummn6PR/mfFuk2Hi74w/wDBB3w54v0eMp45%2BBOojVdPBG5rK80DUJVPTnIslY/iK/Rj4TfEbQvjD8LvDnxY8LybtO8TaFaapYndkiKeFZVB9wGAPuK%2BW/8AgnroWk6H8XP2qv2RvENkk1hYfFSbWv7Pl%2B7/AGfr1oJliA/ubY3H/AjWp/wSC13VfD37PniL9ljxXevNrPwV8far4UmeY/PPZrO01pP/ALjRy7V9oq%2BWyeUqFaipfbpuD/x0JOP3uH5H1fDM5Z14MQoyd6uWV0vP2Ve9GfyjiMNTk%2Bzq%2BZ9YUUUV9WfLBRRRQAUUUUAFFFFABRRRQAUUUUAFFFFABRRRQAUUUUAFFFFABRRRQAUUUUAFFFFABRRRQAUUUUAFFFFABRRRQAV4z44/5SF/C/8A7Iz48/8ATt4Qr2avGfHH/KQv4X/9kZ8ef%2BnbwhQB7NRRRQAV5/8AtL/HG5%2BAPw1i8WaL4RXxBrWq%2BIdL0Hw3ocmo/Y473UdQvYrSBZZ/LkMEKtL5ksgjkZYo3KpIwVG9Arz79pf4HXXx%2B%2BGsXhPRfF6%2BH9a0rxDpeveG9ck077ZHZ6jp97FdwNLb%2BZGZ4WaLypYxJGzRSOFeNirqAef3n7cl9oH7Jnjz9oXxZ8IxbeIPhvq9/pHivwpZ66Z7W2vbW4WJpRfG3Q/YfKkiu2uWgVo7dmdoQyNHXndr/wAFavDdx8HbPx5Jofw5i1DVPiHeeF9G1qX4vRp4Kv47WxS8uNUi8QNYjfZpv%2ByFltGf7arQBSqmUdtL%2Bwt441X9n/xb8HfEXx2sJtV8Z%2BIv%2BEo1nxHZ%2BDniV9eGqRXyN9me9dW00JbWtobJmLvBE4e5YyFhkxf8E8/HkOuJ8bF%2BN3heT4sJ8ULrxrH4hn%2BHEjaFFNcaBDoMtrHpY1ITIjWdvFIZPtvmm4UuWMbGGgD6P8A69qXirwLo3ifWbfS4rvUdKt7q6i0TVjf2SSSRq7C3ujHEbiLJOyXy03rhti5wPyW%2BCGoXWieCf%2BCkHxcvpMJZ%2BIvFXhfSJenlifWdcMqg%2BvmXUZr9M/g3%2By18Ofhj%2By3oP7KHirTrLxj4d0rQI9M1C38QaTBLbako%2BZ99qytEsZckrDgqihVHCivzLHw10n4V/wDBKf8Aas8K%2BB/D9lo8PjH9r7xNoXhyw020SC3trOLxZHaxW8USAKkaLBMqooAUcAACvnuI1JYPnX2VUl8/ZTS/GZ7/AARlizfxN4ew8vh%2BuUZPtaLTbfpZv5H6dfsfeFP%2BEF/ZM%2BGHgsx7G0r4e6NaOMfxR2MKsT75BNejVBpmnWukabb6TYx7ILWBIYU/uooCgfkKnr3KNNUaMaa%2BykvuSX6HnZnjJZjmdfFy3qznN%2Bs5zn/7eFFFFanCFFFFABRRRQAUUUUAFFFFABRRRQAUUUUAFFFFABRRRQAUUUUAFFFFABRRRQAUUUUAFFFFABRRRQAUUUUAFFFFABXjP7L/APyW/wDaO/7LNY/%2BoV4Xr2avGf2X/wDkt/7R3/ZZrH/1CvC9AHs1FFFABRRRQAUUUUAFFFFABRRRQAUUUUAFFFFABRRRQAUUUUAFFFFABRRRQAV4z44/5SF/C/8A7Iz48/8ATt4Qr2avGfHH/KQv4X/9kZ8ef%2BnbwhQB5F8RdSf9kz/gq5onxY8RxiPwb8fvDNv4VuNSztSz8R2TFrNZT0xNCfKTuWLdApqt8VNXuP2C/wDgoqP2gtfjVPhh8fotP0HxTqYyqaF4jtY2jsp5j91YZoiyFuMNvZiAo3e5/tv/ALMOl/te/s1eIvgvcXYstTuIVvPDGrBir6bqsB8y1uFZfmXEgCsV5KO4HWvM/wBnTxT4T/4KefsFal8LP2itBMevxpceFPiZpDqq3Gm65aEK8yjkRvvWO4TqFJA52kV8xXw1WnipUKbtJt1qTe3Mv4kH5O9/8M2/snfwDn2D4V4oxGX5lFywOOhONRL4uSbg6jh09pRqRp4mknvaUXpJtfUtFfKv/BOv9obxlp11rP7Bf7Tuvxn4p/C8i1try4k2t4p0MAfZNTh3HMh8vasmCzAgFzuZgPqqvdwWLp43DqrDTo094taOL809H8ns0d/E3D2M4XzmpgMQ1JK0oTjfkq05rmp1YN7wqQakn096LtKEkiiiiuo8EKKKKACiiigAooooAKKKKACiiigAooooAKKKKACiiigAooooAKKKKACiiigAooooAKKKKACiiigAooooAK8Z8cf8pC/hf/2Rnx5/6dvCFezV4z44/wCUhfwv/wCyM%2BPP/Tt4QoA9mooooAKKKKACiiigAr83fjTpen3f7Onws%2BF%2BmWiJ/wAJj%2B3z4iXUY1H%2BshXxv4hlmkPrjYlfpFX5yW2fFH7RX7M/w0HzLL%2B0l8aNdlTsv2DxHrMiMfTlyB715OdpSy6UP5nCP/gU4L8rn6B4XpQ41oYl/wDLinia3p7LCYmd/vcX8kfo3RRRXrH5%2BFFFFABRRRQAUUUUAFFFFABRRRQAUUUUAFFFFABRRRQAUUUUAFFFFABRRRQAUUUUAFFFFABRRRQAUUUUAFFFFABRRRQAV4z%2By/8A8lv/AGjv%2ByzWP/qFeF69mrxn9l//AJLf%2B0d/2Wax/wDUK8L0AezUUUUAFFFFABRRRQAUUUUAFFFFABRRRQAUUUUAFFFFABRRRQAUUUUAeRft9fELxp8KP2KPin8SPh5rMmmazovgbUbqy1eGMM%2BmlYG3XihgVJgXdMNwK5j5BGRXnXwN8c6l%2Bz9rX7QnhTw7f%2BPPiL4W%2BGdpp2r6Bps%2BtX3iXWpbqXRhd3Ok209zJNc3Uj7LeeOFndg2oBV2xmNF%2Bnb2ys9Ss5dO1G0iuLe4iaOeCaMOkiMMMrKeCCCQQeCDXKfDn9nn4A/B7T7DSfhH8DvB/ha10uW5k0y28OeGbWxjs3uAguGiWGNRGZQibyuC%2Bxd2cCgD5l/4JR/G3x78UfH3x20T4n%2BNPHusazZ%2BNtL1CaDxd4R13SrPSDeaFp80un6fFq1rAYLaKdpljhCrI0eyeRSbjzJPQ7/xp4k8Q/8ABTbwX4d1b4R%2BIdCs9J%2BD3jhLDXtVudOe01oNq3hLL2y213LOgTaM/aIoD842hvmx7xpXhXwvoWranr2ieG7CzvtbuY7jWb21s0jlv5khSFJJnUAyusUccYZiSEjVRwoA8o8cf8pC/hf/ANkZ8ef%2BnbwhQB7NXxr%2B0z4A%2BL/7DH7QGuf8FAP2dvDE3ibwb4mht/8Ahd3w9sYh9pZIFKrrViOhmjQkyR/xDcx%2B8Xj%2ByqCARgiuPG4OOMpJczjKLvGS3jLv5ro09Gm0%2BjXBmGAjj6KXM4zi%2BaElvGS0v2as2pRekotp9Gvmz4zfAj4Af8FMfg34Y%2BPnwV%2BJJ0zxHYRf2h8N/ij4cO290mcE5ikHDNHvyktu%2BCDuHytzWD%2Bzv/wUI1bwf40h/ZS/4KF2Fn4C%2BKFu/kaZrsoMWheMYhgJd2VywEaO%2BRuhYqQ5woDExJn%2BPv2Lf2hf2UfiFrXx8/4Jra9piWWuXhv/ABb8EPEBEej6rPjDzWEox9guGA6cRk4yQiiOrPh39rb9h39v7Qbr9l79q7wBb%2BFvGIlEOrfC74mQi0voLnGA9nM2zzSckxywMshX5tqg14LqVaWK5m1RxD0d7%2ByrW2s%2Bku21SOzU4pH1/DviDgJZfT4b4xoylRi37KcGlUoybvJ4apP3J05v3p4Sq4py96DhU9%2Bf1x16UV8bWn7M/wDwUD/YjjMX7G/xXsfir4AtWza/C/4nXZi1Gwh/54WOqDggcBEmwiKMYY8ne8D/APBXL9nu112H4eftVeFvE3wR8XM2x9J%2BIWlSRWcrDq0F8imGSLniRjGD2FepHN6FNqGMi6Mv73wv/DNe6/m4vyPoq/h1meMpyxPDtWOY0Vr%2B5v7eK/6e4WVq8GurjGtT7VLWPquis7wr4v8ACfjvQ4PE/gjxRp2s6ZdLuttR0q9juIJR6rJGSrD6GtGvVTUldO6PgKlOpRqOnUi4yTs00001ummk012aT8gooopkBRRRQAUUUUAFFFFABRRRQAUUUUAFFFFABRRRQAUUUUAFFFFABRRRQAUUUUAFFFFABRRRQAV4z44/5SF/C/8A7Iz48/8ATt4Qr2avGfHH/KQv4X/9kZ8ef%2BnbwhQB7NRRRQAUUV5/%2B0v8cbn4A/DWLxZovhFfEGtar4h0vQfDehyaj9jjvdR1C9itIFln8uQwQq0vmSyCORlijcqkjBUYA9Aor5%2BvP25L7QP2TPHn7Qviz4Ri28QfDfV7/SPFfhSz10z2tte2twsTSi%2BNuh%2Bw%2BVJFdtctArR27M7QhkaOuOsf%2BCounXX7I/iv9o2y%2BGui%2BINW0bxNeeH/AAnpXgfxyuq6N4zvILNbxpdN1b7LF5tpHH9o%2B0T/AGfMB069wkvkjeAfWVfm/wDs139prf8AwUm8IaZfThYvBkPxg11iQTs%2B1/ELWLEHA5ySAoxyTxX6B/C7xr/wsn4Z%2BHfiL/Zn2L%2B39CtNS%2Bx%2Bd5nkefCkvl79q7tu7G7AzjOB0r87f%2BCdf/FXf8FFvjZ4h%2B//AMIhq2uaFu/ufaviTq97t/HGa8nNfe%2Br0/5qsP8AyXml/wC2o/QOAP3KzfF/8%2BsBibetX2FBf%2BnZL5n6Nf8ACYaT/wA%2Bmqf%2BCO7/APjVL/wmGk/8%2Bmq/%2BCO7/wDjVfO3j7/gsj/wTe%2BF/jvWvhp45/aN%2Bw634d1a50zWLL/hENYl%2Bz3VvK0Use%2BO0ZH2ujDcpKnGQSOayf8Ah%2BX/AMEtP%2Bjof/LJ1v8A%2BQqqWeZLCTjLE001/fj/AJmdHwt8TMRRjVpZJi5Rkk01h6rTTSaaahZpppp9U0%2Bp9P8A/CYaT/z6ar/4I7v/AONUf8JhpP8Az6ar/wCCO7/%2BNV87eAf%2BCyP/AATe%2BKHjvRfhp4G/aN%2B3a34i1a20zR7L/hENYi%2B0XVxKsUUe%2BS0VE3O6jcxCjOSQOa779v74wfEz9n39ib4p/HH4N2mmzeJ/CXgfUNV0ddXmZLdZYIWk3vtjk3bVDME24dlCFkDF168LjcHjYuWHqRmlvytO3rY%2BfzzhniThitClnGCq4aU03FVac6bkk7NpTSbSeja66Hpf/CYaT/z6ar/4I7v/AONUf8JhpP8Az6ar/wCCO7/%2BNV896n%2B258bfCvxD8c%2BC/iF8CvAmhaf8Mvh5aeJvHPie7%2BKl0bG3e7i1Rre2tsaOJZ1D6fGJZXSIolwWjjmdBFJzPw2/4KVav8VdU8M6Hq3wn1fwvrcXxol8HeIdIWW8toZEPg/UNfhn26xo9pevC6QxJt%2Bz2kglQMsskKlbjpPDPqr/AITDSf8An01X/wAEd3/8ao/4TDSf%2BfTVf/BHd/8Axqvnn9kr9vn4k/tD6folx45/Zg/4R%2B78WfCbRfiD4T0vw941h1We606%2BYI8E5uILKK3uIS8TFQ8iOj5DhlMddT%2B1X4s%2BKupfFr4X/s8fC34r6h4Ebxtdaxdat4r0bTbG6vYrewshIttAt/b3FurSTTQszPE58qCVV2swkQA9d/4TDSf%2BfTVf/BHd/wDxqj/hMNJ/59NV/wDBHd//ABqvnKD9oT9pH4n/APBMjwh8f/h9aXP/AAnOu6R4dm8Q3fhXQ1vbi3tJb%2B0i1jUNOspFkE8qWZvLm3gKy7mWNdk5xG/A%2BFf2l/iD41/Zl%2BIXjfxn%2B1V8S/BUPws%2BI1/4e07xEfh/pEPiLxh5lpY3Gmwy6beaYyC5kkv0tktoLa3mmdY1KxOzJQB9l/8ACYaT/wA%2Bmq/%2BCO7/APjVH/CYaT/z6ar/AOCO7/8AjVfDn7QP7Vf7dvwIsND%2BIvxdtPFOjXeleBPBV7N4X8FeB4dR8P6/rVzdmLxFZ3%2BotbTNYCFTGtuBcWuS6shu2JhVdI/bl%2BOHgD9qHUPGvxs%2BIutWXwhg8a%2BOtLn1i50nSX8Lz2mh2V9c/ZdNe2i/tcapAum3jXJu/wDRGNhfrAXIhFAH3D/wmGk/8%2Bmqf%2BCO7/8AjVX7C/tNTtEvrGcSRSDKsAR3wRg8gg5BB5BFfI3/AAS//bg1b9rzx/8AF%2B18R/tA%2BDfFTadrWlaj4e8NeE9Z029Xw1pl5p0My2LTWTMbl4pC0c07vIDcLOI2WMJGv1V4P/5BM3/YUvv/AErloA1aKKKACiiigAooooAKKKKACiiigAooooAKKKKACiiigAooooAKKKKACiiigArxn9l//kt/7R3/AGWax/8AUK8L17NXjP7L/wDyW/8AaO/7LNY/%2BoV4XoA9mooooAKKKKACiiigAooooAKKKKACiiigAooooAKKKKACiiigAooooAKKKKACvGfHH/KQv4X/APZGfHn/AKdvCFezV4z44/5SF/C//sjPjz/07eEKAPZqKKKACvPf2gf2Uf2c/wBqjw7/AMIx8f8A4Q6N4lgVClvPe2225tQevk3CFZYT7oy16FRWdWlSr03TqRUovdNJr7ncyrUKOJpOnWipRe6aTT9U00fH8P7BX7Y/7OK4/Yd/bo1EaJAc2nw/%2BLth/bOnxr2ijvFxcW8Q6BUBODySeuf4w/ah/bF8N%2BHpvBX7cP8AwSwm8c6Ewxfap8MLm28RWd4B1ZdMuP3yjrw7Z5r7QorzHlEKcbYarKmv5bqcP/AZ8yt5JpeR5dHKamAqRqZbialCUXdcsuaKa2tGbbjbpyTjbpY/LG3v/wDgiprvi2a8%2BGXxu%2BIn7M3jaZw91baZd6n4ckifsJI5kktFXsUQqMZ6da9p%2BHkH7e1vCkv7KH/BUL4P/GuwUZs9M8caZAZdn9xrrSpWklb/AGmAOeuK%2B0PF/gPwP8QdMOi%2BPfBmk63ZnObTV9OiuYj/AMBkUj9K8J%2BIP/BJT/gnJ8SpHn179k3wzZyOc%2BZ4eWbSireoFlJEB%2BVeW8kxlF3o8i/wOpRf3Rc6f/kh95T8S/FGFNUswrYbMoLRLF0VUlZdFUnGdRadqy8rHJj9rv8A4KW/DP8AdfGX/gmiPENtH/rdb%2BGfj61uQ/rsspwJvzalH/BY39n7wuNvx3%2BB/wAZfhmycTyeM/hrdRxJ6kPb%2BbuX3xyO1J/w5/8AhT4a5%2BC/7VXx58ABP9TbeGfibOLdfRTHOkm5fbNL/wAMK/t7%2BFOPhf8A8FaPFsSJ9yHxd8PtN1ksPRnkKn8cZotxJQ25n6ujU/8AlMv1L/13yLE/8jLhSKfWWExk6f3Qq%2B2h8tF5HaeCP%2BCq3/BOr4gqjaD%2B154Og8zG0a3fNph/EXixY/GvXPCHxr%2BDfxCCHwD8WvDOuCT/AFZ0fXre53fTy3Oa%2BPPG/wCxF/wUc8Rbz4o8Tfsw/Eot95viF8JDGZfdvs6vj8K8k8X/APBMn9orVN//AAmn/BMr9mHXifvnwL4t1nQt3%2B7%2B8TbR/aue0vjw9/8Atya/9JlUQv7Z8KsR/Ew2a4V/9esLiYr5wqUZv7kfqJRX5LD9hr9prwQNvhX/AIJr/Evw3Gn3bn4cftaQxeX/ALkVysjH86B4Y/b48Df8grQ/23tM2dEm8baX4nVPYApHuHtR/rJiIfxMLJenN/7dSQf8aurfw88q0vKvluMj98qUq0fzP1por8lv%2BGl/%2BCmfg04h%2BJf7VVtGnWLX/wBkvStQiP1uEuw35Cj/AIee/wDBRDwn/wAf/j2Sbb1/4TP9nfVbHP8AvfY3fH4Uf63YKP8AEpVI/JP/ACD%2BzeCqn8HibAv/ABrGUfv9rgbL736n600V%2BTC/8Fz/ANrTwwM%2BMtW%2BBkqr1H/CIeMrOQj332zqD9OKt6d/wcWePYMC7%2BFnw01n1/s7xdqNhu%2Bn2uxGPxprjPIdpTkvWP8Ak2NcP5XVdqGe5ZP0zChH/wBOxon6uUV%2BYuj/APBxpcT8a1%2ByLo0QHWS0%2BNmmPn3CvChH0NdBZ/8ABxd8HolDeIf2eNUg/vfYPHejXOPp%2B/TNbx4u4el/y/t6qS/Q0XCGOm7UsXg6n%2BDMMBL8sWj9GqK/PS0/4OR/2L1lW21f4R/EuKRv%2BfKy0u6Ufil/n9K6bSf%2BDgz9hXVADL4a%2BJNqD3n8Iq2P%2B/c71rHijh6e2Jh97/8AkTV8CcUpXjRhJf3cRg5f%2Bk42X5H3LRXxzY/8F2/%2BCelyA194w8V2I7m68E3xx/3xG1adp/wXG/4JhXDCO5/aQltHP8F14M1hf1%2ByEfrW6z/I5f8AMTD/AMCS/OxK4D40l8GAqy/wqM//AEipM%2Bs6K%2BZbD/gsj/wTP1LH2f8Aav0Zc9PP0u/i/wDQ7cVs2P8AwVW/4J1ajj7P%2B174NXP/AD3vzF/6GoraOcZTLbEQ/wDA4/8AyQnwFxyv%2BZXiflQqv8oSPoGivFrL/go7%2BwJqGPI/bK%2BGq5/57%2BMbSL/0OQVrWX7c37E%2Bo4/s/wDbC%2BFs%2Be0XxA01v5TVtHMMBLatD/wOP/yRyVeEOLqP8TLcQvXD1/8A5Sep0VwNn%2B1X%2By9qOP7P/aR8Az56eT4xsmz%2BUtatp8c/gnqH/Hh8YfC0%2Benk%2BIbZv5PWqxOGltOL/wC3l/mcFTJc5o/xMLVj60qi/OmjqaKybTx94Fv8fYfGukzZ6eVqUTfyatG2vbO8XdaXcUo9Y5A38q0Uoy2ZxVKFel8cGvVNfmkS0UUVRkFFFFABXjPjj/lIX8L/APsjPjz/ANO3hCvZq8Z8cf8AKQv4X/8AZGfHn/p28IUAezUUUUAFefftL/A66%2BP3w1i8J6L4vXw/rWleIdL17w3rkmnfbI7PUdPvYruBpbfzIzPCzReVLGJI2aKRwrxsVdfQaKAPnCX9hbxxqv7P/i34O%2BIvjtYTar4z8Rf8JRrPiOz8HPEr68NUivkb7M966tpoS2tbQ2TMXeCJw9yxkLDB13/glh4M%2BKnhXxtf/Hr4malqPjzxnrGq6mfFHgO/1jwrZ6ZPfaRp%2BkukNlY6pumhMGmWrSR3NxN5snmklVk2D6tooA4H4efs6fD3wh%2Bzhof7MXi7TIvGHh3SvDdto97b%2BLA%2BpJqccUaqTOt68zSKxXO2Rn2jCg4UV8K/8EXvhx4c8F/F39ra78H%2BHLLStHtv2jJ9D0jTdNtEgtrK3svEOobYIY0AWNFE6gIoAAAGOK/SiviT/glB4WbRvAv7Q3iKZP3mtfto%2BN5UcjrFH4jEKj8GST864MXT9pisO/5ZSf8A5JJfqfW8P41YPIM4jfWrRpU/vxVKb/Cmj7bor5i8f/8ABTX/AIQLx3rfgX/h3z%2B09rX9i6vc2H9saB8J/tNhf%2BTK0fn20v2kebC%2B3ej4G5WU4GayP%2BHsP/WNT9rT/wAM3/8AdVZSzrLIycXU1X92f/ys/OZcQ5NCTjKrqtPhqdNP%2BfR9aVi/Ef4eeDPi58Ptc%2BFXxG0GLVfD/iXSLnS9c0ydmVLq0uImimiJQhgGRmGVIIzkEHmvnzwD/wAFNf8AhPfHei%2BBf%2BHfP7T2i/21q9tYf2xr/wAJ/s1hYedKsfn3Mv2k%2BVCm7e74O1VY4OK9m/aT8YfE74efALxf8Qfgz4ctNZ8T6DoFzqWj6Lewu6alJAhlNqAjoQ8qo0aNuwrurEMAVPXhsZhsZFyoyulvpJf%2BlRj%2Bp24PH4PMIuWHlzJaPSS8/tRj%2BFzGg/Y1/Z4Xwr4p8Han4Q1LV7Pxr4bt9B8VS%2BIvFep6ndalYQfafJjkubu5kn3p9rnxKHEo3L8/yJtzvA/7BX7LXw91Jdc8P%2BAtSm1IeLh4ol1bWvGOraleXGrjSJtGF3NcXl1LLOw0%2BeW3xIzLtKnG5EZfDfEf/BR/4m/Ejwtc%2BMf2XG0PVbDxH47m0j4USxeEl1RvEGnWGkLdareyNc63pVtDHFd%2BfAHa4XaLNwElaQeXxPg39ur4jfFzxHonx4svtNrp3jz4Zfs76rH4UbX737DpU/iLxdrttfyQfZp4tzmLyUZjlJ1tYVmSWJfKPSdh9h%2BGP2TvgR4JsdEsPB3hO90pfDnga08HaJNp3iPUIZrTRbV43gtVlScOdpijzIWMjAEM7BmB0fjf%2Bz18Kf2idE0/Q/ilo%2BozDSNRN9pF/oniK%2B0i%2BsbgwywM8N5YTQ3EW6GaaJwkgDpIysCpIr5N%2BCf7VP7UHxu/ak%2BEHjDU/FXhH%2BxPHfwt8f634c%2BHulXV7p7Wslnf6NBbQatKZrhLqWPzSjXCW0RtpHuEWKTOT7d%2B2/q3iSfTPhR8N5fFWq%2BHdI8d/Few0PxnqXhvXbjT7qGzOn390kEN7btFPb%2Bfe2tna%2BZG0cjLcFVKlxQB6FJ%2Bzv8ACxPAY%2BGGjWOsaLoEXhyw0Ky0zwz4r1HSo9PsbMk26Wn2O4iNm6g7TLAUldERGdljRV4vxL/wT1/ZV8V%2BFPCfg7UfCXiS3tvBOvXeueHbvSPiPr1hfRapdLKtxfzXltex3N3cyCeYNPPJJIfOk%2Bb52zwPwi1H9oX4p/8ABNvxvofwn%2BJN3P40s9S8d%2BHPAPizWNVLXFxb6fr2qafplxJeShy0ptbaAfa3Dl2xO2/cc8V%2Bz7Z/FX4s6d8b/gWfBfj6wsPCXinRj4J8PeOP2hNWtNVhv5dKinu9Pu/EGk3V9dJGNyXQhWa62rdJuVVZYogD6V8Qfsl/BTxd4g8MeI/F1p4m1aTwhb2EWj2Wq%2BP9ZubF3spPNtbi6tJLtre/uo5cSi6uo5Z/MRHMhZFYQeF/2Nf2dPBvxff45%2BHvA93Dr51S%2B1SBJPEmoS6fZ396rLeXttp0k7WdrcziSXzJ4YUkk8%2Bbcx82Tdhf8E5vGfinx5%2Bxn4N1zxx4uu9c1mBdQ07VtRvbg3Dm5s9QubSSIXDMzXiRNAYku2O65SNZ2wZSK9toAwfDXwx8D%2BD/ABj4k8f%2BHdD%2Bz6v4uura48Q3f2mV/tclvbpbQttZise2KNFwgUHGTkkmrXg//kEzf9hW%2B/8ASuWtSsvwf/yCZv8AsK33/pXLQBqUUUUAFFFFABRRRQAUUUUAFFFFABRRRQAUUUUAFFFFABRRRQAUUUUAFFFFABXjP7L/APyW/wDaO/7LNY/%2BoV4Xr2avGf2X/wDkt/7R3/ZZrH/1CvC9AHs1FFFABRRRQAUUUUAFFFFABRRRQAUUUUAFFFFABRRRQAUUUUAFFFFABRRRQAV4z44/5SF/C/8A7Iz48/8ATt4Qr2avnD9o/V/jXo/7eHwnn%2BB3w/8AC3iLUm%2BEfjtbu08V%2BMLnRYI4P7U8JEuktvp96zvu2jYY1GCTvyApAPo%2BivGf%2BE4/4KF/9Gv/AAZ/8Pxq3/zL0f8ACcf8FC/%2BjX/gz/4fjVv/AJl6APZqK8Z/4Tj/AIKF/wDRr/wZ/wDD8at/8y9H/Ccf8FC/%2BjX/AIM/%2BH41b/5l6APZqK%2BcdJ/aO/bt1j4z6/8AA63/AGUPhIuqeHfC%2Bka7eXL/AB11TyJINRudSt4UQjwxuLq2lzlgVAAePBYlgvUf8Jx/wUL/AOjX/gz/AOH41b/5l6APZqK8Z/4Tj/goX/0a/wDBn/w/Grf/ADL0f8Jx/wAFC/8Ao1/4M/8Ah%2BNW/wDmXoA9morxn/hOP%2BChf/Rr/wAGf/D8at/8y9cv4B/aO/bt%2BInivxv4Q0f9lD4SQ3HgPxRFoWqyXPx11QJPPJpWn6mHi2%2BGCSnk6jCpLBTvRxjADMAfR1FeM/8ACcf8FC/%2BjX/gz/4fjVv/AJl6P%2BE4/wCChf8A0a/8Gf8Aw/Grf/MvQB7NRXjP/Ccf8FC/%2BjX/AIM/%2BH41b/5l6P8AhOP%2BChf/AEa/8Gf/AA/Grf8AzL0AezUV84/CL9o79u34y%2BFLvxf4c/ZQ%2BEltb2fijW9CkjvfjrqiuZ9L1W60ydxt8MMNjTWkjIc5KMpIU5UdR/wnH/BQv/o1/wCDP/h%2BNW/%2BZegD2aqWoeG/Dur5/tXQbK6z1%2B0WqPn8wa8m/wCE4/4KF/8ARr/wZ/8AD8at/wDMvR/wnH/BQv8A6Nf%2BDP8A4fjVv/mXpNJrUTSkrNHe3/wO%2BCmq5/tP4P8Aha5z18/w/bPn80rGvv2Sf2U9Tz/aX7Mnw9uM9fP8F2L5/OKub/4Tj/goX/0a/wDBn/w/Grf/ADL1y/wR/aO/bt%2BPHwY8IfHHwr%2Byh8JLXS/GfhfT9d0221D466os8MF3bR3EaSBPDDKHCyAMFZhkHBI5rKWGw0vihF/9ur/IwlhMJP4qcX6xi/zidtefsF/sN6hk3n7GvwqkJ6sfh9pufz8nNZV3/wAE2f8Agn/e5879jb4cLn/nj4TtY/8A0FBU/wDwnH/BQv8A6Nf%2BDP8A4fjVv/mXo/4Tj/goX/0a/wDBn/w/Grf/ADL1i8vy%2BW9GH/gEf/kTCWVZXLfD03/25D/5Axbr/glZ/wAE67zPnfsgeCxn/nlpvl/%2BgkVnXP8AwSE/4JsXf%2Bt/ZK8ODP8AzymuU/8AQZRXV/8ACcf8FC/%2BjX/gz/4fjVv/AJl65f43ftHft2/Af4MeL/jj4q/ZQ%2BEl1pfgzwvqGu6lbaf8ddUaeaC0tpLiRIw/hhVLlYyFDMoyRkgc1m8pyqW%2BHh/4BH/5EyeR5JLfC0//AAXD/wCRMy5/4Iv/APBMe6z5v7KWmDP/ADz1vUU/9BuRVG4/4Ie/8EuLn/WfstxD/rn4v1lP/QbwV6T/AMJx/wAFC/8Ao1/4M/8Ah%2BNW/wDmXo/4Tj/goX/0a/8ABn/w/Grf/MvWbyTJnvhqf/gEf8jJ8OcPy3wlL/wXD/I8quP%2BCE//AAS9mGI/2drmL/rn411c/wDoV0apT/8ABBH/AIJky/6v4LarF/ueMNR/rMa9i/4Tj/goX/0a/wDBn/w/Grf/ADL0f8Jx/wAFC/8Ao1/4M/8Ah%2BNW/wDmXqHkGRv/AJhaf/gCLhkOSU/gw0F6Rt%2BTR4jN/wAEAP8AgmrL9z4a%2BII/9zxbd/1Y1Vm/4N8P%2BCcEn%2Br8JeKo/wDc8Vzf1Br1D4u/tHft2/BrwpaeL/Ef7KHwkube88UaJoUcdl8ddUZxPqmq2umQOd3hhRsWa7jZznIRWIDHCnqP%2BE4/4KF/9Gv/AAZ/8Pxq3/zL1L4cyF/8wsP/AAFHRHLcFD4YW9JTX5VEfP0v/BvD/wAE65Puab40j/3PFB/rGarSf8G6n/BPZzmO48exnsU8TR8fnAa%2Biv8AhOP%2BChf/AEa/8Gf/AA/Grf8AzL0f8Jx/wUL/AOjX/gz/AOH41b/5l6h8M8Pv/mFh/wCA/wDBN44eMPhnNelWsvyro%2BdF/wCDd79huA5sfHvxStvTyPFVuMfnampov%2BDfr9ky2/48fjz8arfHTyPGlsv/ALZ19C/8Jx/wUL/6Nf8Agz/4fjVv/mXrl/H37R37dvw78V%2BCPCGsfsofCSa48eeKJdC0qS2%2BOuqFIJ49K1DUy8u7wwCE8nTplBUMd7oMYJZT/VrIFtho/j/8kN0ObepU/wDB1f8A%2BaDy2D/gg/8As/2f/Hj%2B1l%2B0Db46eT8QLdcf%2BSVX7b/giZ8MrIf6B%2B3L%2B0tBjp5XxNhX%2BVnXtf8AwnH/AAUL/wCjX/gz/wCH41b/AOZej/hOP%2BChf/Rr/wAGf/D8at/8y9WuHckjtQX3y/8Akznnl2GqfE5v/uLX/wDmg8ei/wCCOuj2n/Hh/wAFEv2oYcdNnxUUfythS/An9kef9lj/AIKE%2BDUl/aZ%2BKnxFXXPgz4y2D4meLDqn9neTq3hb/j2%2BRfK8zzfn67vKj/u17B/wnH/BQv8A6Nf%2BDP8A4fjVv/mXqh4H8D/tWeMf2rPDnxu%2BN3w4%2BHvhnRvDPw98Q6HDD4V%2BId9rV1d3WpX2iXCMyXGkWKRRomlygsHdi0qALjJHRh8py7C1VUpU7SXnL8nNr8CaOV4HD1lVhF8y7zqP8JVJL8Ge60UUV6J6AUUUUAFFFFABXzl%2BxD4Y03wt%2Bzx4svbHzCL39obx/qd87DOD/wAJ5qm9uB0VIx%2BC19G18lfsleLP2ztP%2BHviiz%2BGPwD%2BGGr6Enxp%2BIv9n6jr3xd1HTbuZf8AhM9ZLGS2i0C5SIhtwAEz5AByCdoTSbT7FxqVIwlBPSVr%2Bdndfc9T6g/4TnwT/wBDhpf/AIMI/wD4ql/4TnwT/wBDhpX/AIMI/wD4qvLf%2BE4/4KF/9Gv/AAZ/8Pxq3/zL0f8ACcf8FC/%2BjX/gz/4fjVv/AJl6ZB6l/wAJz4J/6HDSv/BhH/8AFUf8Jz4J/wChw0r/AMGEf/xVeW/8Jx/wUL/6Nf8Agz/4fjVv/mXo/wCE4/4KF/8ARr/wZ/8AD8at/wDMvQBqX3wM/Yo1T4caT8HdT%2BDvwtuPCOgXv2zQvCs/h7TX03TbndI3nQWxTyoZN0sp3ooOZHOfmOdDT/hx%2ByjpNra2WleA/h7bQ2VppNpZQ2%2Bl2KLbwaXPJcaZEgCgIlpPLLLbqMCCSR3jCsxJ8z%2BCP7R37dvx4%2BDHhD44%2BFf2UPhJa6X4z8L6frum22ofHXVFnhgu7aO4jSQJ4YZQ4WQBgrMMg4JHNdR/wnH/AAUL/wCjX/gz/wCH41b/AOZegDVsfgf%2BxVpfinW/HOmfCD4XW%2Bt%2BJYLqHxHrEHh/TUutVjusfaUuZQm%2BdZdq%2BYHJD4G7OK6DxvpXwA%2BJngi5%2BGXxI03wd4g8N3kKRXfh7XIbS7sZ40ZWRHglDRsqsqkArgFQR0FcV/wnH/BQv/o1/wCDP/h%2BNW/%2BZej/AITj/goX/wBGv/Bn/wAPxq3/AMy9AHVDwT%2BzCPD1v4RHhHwGNJtPDc/h610v7BZfZ4dInEazacke3atrIIYg8AHlsIkBU7RjDuv2fP2GL74W2vwOvfgh8J5vBVlfm%2Bs/B8vhrTG0uC6O/M6Whj8lJP3j/OFDfO3PJrifjd%2B0d%2B3b8B/gx4v%2BOPir9lD4SXWl%2BDPC%2Boa7qVtp/wAddUaeaC0tpLiRIw/hhVLlYyFDMoyRkgc11H/Ccf8ABQv/AKNf%2BDP/AIfjVv8A5l6APRfDmq/CjwdoFl4U8I6l4e0rS9NtUttO03TZoILe1hRQqRxxoQqIoAAVQAAMCrv/AAnPgn/ocNK/8GEf/wAVXlv/AAnH/BQv/o1/4M/%2BH41b/wCZej/hOP8AgoX/ANGv/Bn/AMPxq3/zL0Aeo/8ACc%2BCf%2Bhw0v8A8GEf/wAVR4MO/QzOoOya%2Bu5YiRjcj3MjK30KkEexry7/AITj/goX/wBGv/Bn/wAPxq3/AMy9cv8AF39o79u34NeFLTxf4j/ZQ%2BElzb3nijRNCjjsvjrqjOJ9U1W10yBzu8MKNizXcbOc5CKxAY4UgH0dRXjP/Ccf8FC/%2BjX/AIM/%2BH41b/5l6P8AhOP%2BChf/AEa/8Gf/AA/Grf8AzL0AezUV4z/wnH/BQv8A6Nf%2BDP8A4fjVv/mXo/4Tj/goX/0a/wDBn/w/Grf/ADL0AezUV84%2BPv2jv27fh34r8EeENY/ZQ%2BEk1x488US6FpUlt8ddUKQTx6VqGpl5d3hgEJ5OnTKCoY73QYwSy9R/wnH/AAUL/wCjX/gz/wCH41b/AOZegD2aivGf%2BE4/4KF/9Gv/AAZ/8Pxq3/zL0f8ACcf8FC/%2BjX/gz/4fjVv/AJl6APZqK8Z/4Tj/AIKF/wDRr/wZ/wDD8at/8y9cvq37R37duj/GfQPgdcfsofCRtU8ReF9X12zuU%2BOuqeRHBp1zptvMjk%2BGNwdm1SAqApBCSZKkKGAPo6ivGf8AhOP%2BChf/AEa/8Gf/AA/Grf8AzL0f8Jx/wUL/AOjX/gz/AOH41b/5l6APZqK8Z/4Tj/goX/0a/wDBn/w/Grf/ADL0f8Jx/wAFC/8Ao1/4M/8Ah%2BNW/wDmXoA9mor5x0n9o79u3WPjPr/wOt/2UPhIuqeHfC%2Bka7eXL/HXVPIkg1G51K3hRCPDG4uraXOWBUAB48FiWC9R/wAJx/wUL/6Nf%2BDP/h%2BNW/8AmXoA9morxn/hOP8AgoX/ANGv/Bn/AMPxq3/zL0f8Jx/wUL/6Nf8Agz/4fjVv/mXoA9morxn/AITj/goX/wBGv/Bn/wAPxq3/AMy9cv4B/aO/bt%2BInivxv4Q0f9lD4SQ3HgPxRFoWqyXPx11QJPPJpWn6mHi2%2BGCSnk6jCpLBTvRxjADMAfR1FeM/8Jx/wUL/AOjX/gz/AOH41b/5l6P%2BE4/4KF/9Gv8AwZ/8Pxq3/wAy9AHs1eM/sv8A/Jb/ANo7/ss1j/6hXhej/hOP%2BChf/Rr/AMGf/D8at/8AMvVv9lb4c/GnwfrHxQ8d/HTQPC%2Bk6p4%2B%2BIUWuWeleE/Etzq1va2sWg6Ppiq9xcWVmzSNJp0rlRFtCyINzHOAD1uiiigAooooAKKKKACiiigAooooAKKKKACiiigAooooAKKKKACiiigAooooAK%2BV/wBp79rT4ufDD4x%2BLNa8A%2BHfB8nhj4P%2BH/D9741OtaRcTarqlvq9/KlzBYXEdxGll5FtZx3GZIpxcyFIyIfL80/VFeM/Gf8AYh%2BHHxu%2BKR%2BJmueOfFWlxaja6Ra%2BL/DWjXVqmneKYNLvZL2xivllt5Jgsc00ufs8sBljkMUxljCoAD2aiiigAooooA%2BY/Dn7SvxMh/b/APFHwf8AiNrHh7wn4bXxBaaJ4Mi1H4Rayl14xgGgQajiDxG12unNLHd3OoAWgheTy7SYBQWaRfpyvK/Fn7LUHj/4yaR8U/Hvxv8AGur6V4e12PWtA8AXB0yLRrHUI7d4I5w0Nkl7Ls8ySRUmupIxI%2B7Z8iBfVKACiiigDxf/AIKC/F344fs/fsj%2BNPj18Ar3wpHrHgnQrvXLqDxhotzfW13aWttLM9uiW11bMkrsiKJC5VAWJR%2BBXn/jz9rT4ueC/jx4t1Pwp4d8IRfDzwh8Y/CPw%2B8ZWc2kXB1vVdV12DRUj1CG7S4WGOOD%2B3NJjMUlvK8iQz4lj2oK9h/ax/Zxsv2tPgRr37PutfFXxT4R0nxPZS2OuX/hBdO%2B13NlLE8U1tuv7S6jRHV%2BWRFkBUbXXnPFwfsA%2BDp/iLZ/EXxV8cfH2usdZ0nXPE2jahLpUVj4n1zTEjSx1a9jtrCJluIhBaYW2aCBjY2xeJjHkgHvdFFFABXi/wC2T8Xfjh8ErXwD4x%2BFl74U/sbUPiZ4c8PeL7HxBotzc3Vza6rrNjpoNnLDdQpbSRrcyyb5EnUlEXZyTXtFeVftXfstv%2B1V4b0LwvP8ffG/ga30LxJYa6jeC4dHZ7u9sbyC8s2lOpafeDbFcW8bhYwgblZN6naADzj9nn9pX4ma3%2B1V4t%2BCPxQ1fw94T06HxTrdv4J8JSfCLWdMudetoXSU39vrVxd/YNQdjJNLLFbQF%2BS7FcMT9OV5LpP7KIf4yaL8ZfiP%2B0B478azeF7u8u/CeheIRpMNho91c28lrJcRLYafbSyv9nmnhXz5JVRZ32gEgj1qgAooooA8P/bu%2BLnx4/Z%2B%2BDWr/HX4UeMfAtjp/hbRbm8vdF8WeGb2/ufEN7lFs9Ms5La9g%2BzzXEpFujeVdM0s8QWFj8ref/BH9r74z658S/BX9reDPCWkfDTxv8T/ABR8NvCvhrTtLmj1fRL/AECHVt889yLhreaCRvD%2BposMdvEY1a2PmSZYD0/9pX9kGD9pLx54I%2BIE37QPjvwhc%2BAbu5vdFsfDEWjT2cl7KgjW8mg1PTrxHnhj8xYZAFMYnlI%2BZsir4D/Ya%2BHvgP4y2/xdh%2BIvi7UoNO13U9e0TwhqVzZf2TpWt6jG8eoapAkVqk/nzie7LK8zwo19cmOKPzOAD2uiiigAr5f/AGufjx%2B0v8FviJp/hTSofAHjXR/HMOtW2i/DmLwffSawlraaHdXcl/cTi9eK6thdRW9tJCLWIH7fCgmMjIkn1BXh037E1xH%2B0f4r/aa0T9qv4l6dq/i3TYdOudLhg8Pz2mn2cMDRw21m1zpMtzbxLK73WxZtrzuXcODtoAZ%2Bwh%2B0H43%2BPfw9vLr4r%2BPtGvvF2nCzbX/Ddl8LtX8I3mgPPbLKILmy1e6nuHBbf5dwAkciodobaTXuleb/AAO/Zu074M%2BJ/EnxD1j4peKfHHirxXFY2%2BseJ/FzWC3L2lmJvstqkWn2trbRxRtc3LjbCGZriQszZGPSKACiiigD45/4KCftx/FT9jDxz/aeuaLoHjHwi%2Bjajrdv4Vl%2BHOp2Utumm6Nfakkn/CRTXT6ZPd/a9NGyxWBLoRzLKBthaRvXv2aPi78c9W%2BKnjf9nr9o658Kah4n8I6ToetR614K0i5sLG5sdUF5GkRgubm5dZYrjTrtS/m4kQxNsjJKit8df2EvBH7TmtXVr8f/AIt%2BNfFHgu5kuJF%2BGV5JpsOixSTWM1kzb7eyjvpAI7iZgkt06B33bfkQL0/7Pn7M2kfAO817xFd/FDxZ448R%2BJDZx6t4q8a3Fm99LbWkRitbUfY7a3hWKIPKwxHvZ55XdnZyaAPSqKKKACviP9qf9sr9rP4N/GrxB8KPB3hvw5411Ow0W413wwE%2BB/iCOTRQNR0y1Qwt9uceJpBY6pced/ZflPC0JWURiYR19uV4fr37Fup%2BJfHp%2BJ2tftc/FGbW9PgvIvBt4U0ADwqt1NDJP9kjGk7J2aOBbfderdMsTOFKu7OQDqv2WPiw/wAZPhHB4svfiZo3iq/h1G6stUvtG8GX3h0W1xFKytazabqFxPdWc8YwrxzOHz821QwFejVw3wD%2BAvh74AeGdT0bSvFOt%2BINR1/XrjW/EniTxHNA17qt/MERp5RbxQwJiOKGJUhijjVIkAUYJPc0AFFFFABRRRQAUUUUAFFFFAFHxR4hsPCXhrUfFeqhza6ZYzXdyIly3lxoXbA7nCmvnP8AYm/aT%2BNfj/xTo/gz42eHvBlmPHXwtsviN4Zh8GaVcWg0yO8uCbvT7szXEou5o3ubZ/tiCATtLMTBHtBf6Wu7S1v7WWxvbdJoZo2jmilUMrqRgqQeCCOMV5D%2BzN%2BxX4C/Zg1V9X0D4g%2BLfEstt4YsfDPh0eLL21mGgaFZvI9vptqbe3hLRqZPmlnM1xII4vMmfy1wAexUUUUAFcL%2B1B48%2BIvws/Zo%2BInxO%2BD/AIUXXvFvhzwLq%2BqeFtDaxmuhqOo29nLLbWxhgZZZhJKiJ5cbB23YUgkGu6rO8W6Jf%2BJfDGoeH9L8V6joVze2kkNvrWkLA11YuykCaIXEUsRdTyBJG6ZHzKwyCAeXfsU/Fqf4ofDO%2BstW%2BIXh/WdT8O6qunXmmaJ8MNT8HPoaC2gkis7jStUuZ7mFwjiRXby0eKWLYmBvf2KvPPgP%2BztpPwOvPEviO5%2BIniTxj4k8X6jDeeIvFPit7MXd0YbdLeCIR2NtbW0UUcaAKscKZLOzFmZmPodABRRRQB8uftUftY/FD9nD4veOLL4laN4S8RfC%2Bw/Z38X%2BPbbQrfRLhNVdtEGlrPbXFzJcvbzRTrfTgILZCoRMu%2BWFdv8Asz/F/wCPmqfFzxl%2Bzr%2B0s/hK88UeGPDHh7xLHqvgrSbmxspLLVn1K3W2MNzc3LmWG40i7BlEgWRHiby4zuWoPjH%2Bwr4d%2BOnx1b4y%2BPPjt45l02bwVqfhG%2B%2BHsMGi/wBiXejaktt9vtJC%2BmtekTtaQOzi6DqUIRkRmQ9J%2Bzv%2By7of7Pt9rXiOf4oeLfG/iHX7Wwsr/wAT%2BNrm0kvTYWKSLZ2Y%2ByW1vH5URnuHBKGR3uZXd3Zs0Aen0UUUAFfInxr/AGl/2tvBmu/tAeBLfwr4M8WXvgLw/wCFPEnw2sdJ%2BH%2Bp386x6jqupQhLy1ivHl1GeBdNjnU2wtyXJCr8qtX13Xhcv7FHiGL46eNvj/oX7aHxW0rVvG%2BkWOmXNjZWfhhrTTbayuLmezS2EuivJ%2B6N5dKDM8pdZyJPMKoVAOr/AGVPi3N8ZfhSPE2o/E7RvFOo2uq3Njq11o/gi/8ADZs7iJvmtZ9M1G4nurSdFK7kmYMQyttVWFek1wnwD%2BAegfAHQtZsdP8AFuueI9V8TeIJdc8T%2BJvEktu17qt/JDDB5sgtoYYIwsFvbwqkUUaKkKALnJPd0AFFFFAHxt%2B0t%2B13%2B0t%2Bzx8ZoPhtrKfDPxrfa3BBN4Rh07wte2kvgu81LxDpnh7SJtTle%2BmF1FO2rzgtEtnI4sbpYwy%2BYYvcf2Vfi/8AEj4jDx/8PvjEdEn8VfDTx43hrWdV8NadNZ2Gp%2BZpenatb3ENvNPPJb5tdUt0eNppcSRyYYgjHC23/BNXwk118Q38Q/tL/E7Wbf4k68dc1i31I6F5lnqUVxDPp9zbXUWlpdKbB7e3FpG80kUSwoGR%2Bc%2BsfAP4C6H8A/D2rabZeL9c8Sat4i16bWvE/ijxK9sb/V76SOKHzphawQQLsggt4ESKKNFjgjULwSQDuqKKKAGXP2n7NJ9j2edsPlebnbuxxnHOM18QfFb9rn9tP4afETXPhtb23gPxnr3hi98NW%2BreOvBHwV1/Vo/DlvqzXj3thLpVnqU93czRw2VjdExTp%2B7uoWlgQGJpPt67hkuLWW3hupIHkjZVniCl4yRgMu4FcjqMgj1Br57%2BDH7AXiD4CfDa4%2BGnw7/bq%2BMUUd1qz6nNrN5ZeE59Qlu5XlkuZ5pn0I/aZJ3l3SSTiR8xpsKAYIB6z8BPiHZfFb4O%2BH/iFYfEDRvFSanp4kfX/D%2BkzWFpdyAlZClrPNNLbFXVkaGSR3jZWVjuUgdfXJfAv4L%2BEv2ffhfp3wp8FXN/cWVhLdXE19qtyJrq%2Bu7q5lurq6mcKoaWa4nmlfaqrukO1VXCjraACqPieHxJc%2BG9Qt/Bup2Nlq8llKul3mp2D3VtBcFCI5JYY5YmmjVsFkWSMsAQHUncL1ZvjHQb/wAUeFr/AMO6X4t1LQbm8tXig1rRxAbqxcjiaIXEUsRdTyBJG6HHzKwyKAPh74b/ALdn7Wvxg%2BKet/BL4Wab8Pk8Z6ba67fSeM/Ffwu1rQ11TTNItdFlSxl0S8vk1DT5Xu/EOxJp5nj8qGS4SF1nQH7G%2BAXxa034%2BfAnwV8ddG02Wzs/GvhLTdetLOZ9zwRXlrHcLGxAGSokAJ9RXi2r/wDBMjwPrWuX3xFu/wBpT4pp8QNWS8tda%2BJNte6RDq1/pl1bWttNphRNNFnDbFLK0YeRbRSrJAsqyhyzH6D8F%2BD/AA18PPB2k%2BAPBmkxafo%2Bh6ZBp%2Bk2EOdltbQxrHFGuecKiqo%2BlAGnRRRQBy/xp1Hxxo3wt1rW/hz4hsdL1awszdQ32oeD73xAiRxkPKBp1jPBc3kjRK6pFDIHLsuFc/I3xb8Jf%2BCiPx%2B8SeNND1PxvceEfAngzUp518QeOLz4GeIprbWL%2BHX7rSES5lW%2BjTwzPJa2lr%2B41RpJYHlWN87AlfbfxM8Ga7498JTeHPDfxS1/wbeSSxvFr/hmKxe7g2sCVVb%2B2uYGDAFSHibgnGDgjxW6/wCCc3hTUPB9x8NtW/aQ%2BJt34Y1zUJr/AMeaBNcaOIvGF3PeNdXE19Kumi4i80ssLR2ctrEIYkjVFG7cAfRNFFFABRRRQAUUUUAFFFFABRRRQAUUUUAFFFFABRRRQAUUUUAFFFFABRRRQAUUUUAFFFFABRRRQAUUUUAFFFFABRRRQAUUUUAFFFFABRRRQAUUUUAFFFFABRRRQAUUUUAFFFFABRRRQAUUUUAFFFFABRRRQAUUUUAFFFFABRRRQAUUUUAFFFFABRRRQAUUUUAFFFFABRRRQAUUUUAFFFFABRRRQAUUUUAFFFFABRRRQAUUUUAFFFFABRRRQAUUUUAFFFFABRRRQAUUUUAFFFFABRRRQAUUUUAFFFFABRRRQAUUUUAFFFFABRRRQAUUUUAFFFFAH//Z\">"
      ]
     },
     "metadata": {},
     "output_type": "display_data"
    }
   ],
   "source": [
    "s.run(tf.global_variables_initializer())\n",
    "\n",
    "BATCH_SIZE = 512\n",
    "EPOCHS = 40\n",
    "\n",
    "# for logging the progress right here in Jupyter (for those who don't have TensorBoard)\n",
    "simpleTrainingCurves = matplotlib_utils.SimpleTrainingCurves(\"cross-entropy\", \"accuracy\")\n",
    "\n",
    "for epoch in range(EPOCHS):  # we finish an epoch when we've looked at all training samples\n",
    "    \n",
    "    batch_losses = []\n",
    "    for batch_start in range(0, X_train_flat.shape[0], BATCH_SIZE):  # data is already shuffled\n",
    "        _, batch_loss = s.run([step, loss], {input_X: X_train_flat[batch_start:batch_start+BATCH_SIZE], \n",
    "                                             input_y: y_train_oh[batch_start:batch_start+BATCH_SIZE]})\n",
    "        # collect batch losses, this is almost free as we need a forward pass for backprop anyway\n",
    "        batch_losses.append(batch_loss)\n",
    "\n",
    "    train_loss = np.mean(batch_losses)\n",
    "    val_loss = s.run(loss, {input_X: X_val_flat, input_y: y_val_oh})  # this part is usually small\n",
    "    train_accuracy = accuracy_score(y_train, s.run(classes, {input_X: X_train_flat}))  # this is slow and usually skipped\n",
    "    valid_accuracy = accuracy_score(y_val, s.run(classes, {input_X: X_val_flat}))  \n",
    "    simpleTrainingCurves.add(train_loss, val_loss, train_accuracy, valid_accuracy)"
   ]
  },
  {
   "cell_type": "markdown",
   "metadata": {},
   "source": [
    "# Submit a linear model"
   ]
  },
  {
   "cell_type": "code",
   "execution_count": 14,
   "metadata": {
    "collapsed": true
   },
   "outputs": [],
   "source": [
    "## GRADED PART, DO NOT CHANGE!\n",
    "# Testing shapes \n",
    "grader.set_answer(\"9XaAS\", grading_utils.get_tensors_shapes_string([W, b, input_X, input_y, logits, probas, classes]))\n",
    "# Validation loss\n",
    "grader.set_answer(\"vmogZ\", s.run(loss, {input_X: X_val_flat, input_y: y_val_oh}))\n",
    "# Validation accuracy\n",
    "grader.set_answer(\"RMv95\", accuracy_score(y_val, s.run(classes, {input_X: X_val_flat})))"
   ]
  },
  {
   "cell_type": "code",
   "execution_count": 15,
   "metadata": {},
   "outputs": [
    {
     "name": "stdout",
     "output_type": "stream",
     "text": [
      "Submitted to Coursera platform. See results on assignment page!\n"
     ]
    }
   ],
   "source": [
    "# you can make submission with answers so far to check yourself at this stage\n",
    "grader.submit(COURSERA_EMAIL, COURSERA_TOKEN)"
   ]
  },
  {
   "cell_type": "markdown",
   "metadata": {},
   "source": [
    "# MLP with hidden layers"
   ]
  },
  {
   "cell_type": "markdown",
   "metadata": {},
   "source": [
    "Previously we've coded a dense layer with matrix multiplication by hand. \n",
    "But this is not convenient, you have to create a lot of variables and your code becomes a mess. \n",
    "In TensorFlow there's an easier way to make a dense layer:\n",
    "```python\n",
    "hidden1 = tf.layers.dense(inputs, 256, activation=tf.nn.sigmoid)\n",
    "```\n",
    "\n",
    "That will create all the necessary variables automatically.\n",
    "Here you can also choose an activation function (remember that we need it for a hidden layer!).\n",
    "\n",
    "Now define the MLP with 2 hidden layers and restart training with the cell above.\n",
    "\n",
    "You're aiming for ~0.97 validation accuracy here."
   ]
  },
  {
   "cell_type": "code",
   "execution_count": 16,
   "metadata": {},
   "outputs": [
    {
     "name": "stdout",
     "output_type": "stream",
     "text": [
      "(50000, 28, 28) (50000,)\n"
     ]
    }
   ],
   "source": [
    "# write the code here to get a new `step` operation and then run the cell with training loop above.\n",
    "# name your variables in the same way (e.g. logits, probas, classes, etc) for safety.\n",
    "### YOUR CODE HERE ###\n",
    "\n",
    "import preprocessed_mnist\n",
    "X_train, y_train, X_val, y_val, X_test, y_test = preprocessed_mnist.load_dataset_from_file()\n",
    "print(X_train.shape, y_train.shape)"
   ]
  },
  {
   "cell_type": "code",
   "execution_count": null,
   "metadata": {
    "collapsed": true
   },
   "outputs": [],
   "source": [
    "s = reset_tf_session()\n",
    "input_X = tf.placeholder(tf.float32, shape=(None,784))\n",
    "input_y = tf.placeholder(tf.float32, shape=(None,10))\n",
    "hidden1 = tf.layers.dense(input_X, 256,activation=tf.nn.sigmoid)\n",
    "hidden2 = tf.layers.dense(hidden1, 256,activation=tf.nn.sigmoid)\n",
    "logits = tf.layers.dense(hidden2, 10)\n",
    "probas = tf.nn.softmax(logits)\n",
    "classes = tf.argmax(probas,1)\n",
    "#print(hidden1.shape,logits.shape, probas.shape, classes.shape)\n",
    "\n",
    "loss = tf.reduce_mean(tf.nn.softmax_cross_entropy_with_logits(labels=input_y, logits=logits))\n",
    "\n",
    "step = tf.train.AdamOptimizer().minimize(loss)\n",
    "\n",
    "s.run(tf.global_variables_initializer())\n",
    "\n",
    "BATCH_SIZE = 512\n",
    "EPOCHS = 40\n",
    "\n",
    "# for logging the progress right here in Jupyter (for those who don't have TensorBoard)\n",
    "simpleTrainingCurves = matplotlib_utils.SimpleTrainingCurves(\"cross-entropy\", \"accuracy\")\n",
    "\n",
    "for epoch in range(EPOCHS):  # we finish an epoch when we've looked at all training samples\n",
    "    \n",
    "    batch_losses = []\n",
    "    for batch_start in range(0, X_train_flat.shape[0], BATCH_SIZE):  # data is already shuffled\n",
    "        _, batch_loss = s.run([step, loss], {input_X: X_train_flat[batch_start:batch_start+BATCH_SIZE], \n",
    "                                             input_y: y_train_oh[batch_start:batch_start+BATCH_SIZE]})\n",
    "        # collect batch losses, this is almost free as we need a forward pass for backprop anyway\n",
    "        batch_losses.append(batch_loss)\n",
    "\n",
    "    train_loss = np.mean(batch_losses)\n",
    "    val_loss = s.run(loss, {input_X: X_val_flat, input_y: y_val_oh})  # this part is usually small\n",
    "    train_accuracy = accuracy_score(y_train, s.run(classes, {input_X: X_train_flat}))  # this is slow and usually skipped\n",
    "    valid_accuracy = accuracy_score(y_val, s.run(classes, {input_X: X_val_flat}))"
   ]
  },
  {
   "cell_type": "markdown",
   "metadata": {},
   "source": [
    "# Submit the MLP with 2 hidden layers\n",
    "Run these cells after training the MLP with 2 hidden layers"
   ]
  },
  {
   "cell_type": "code",
   "execution_count": null,
   "metadata": {
    "collapsed": true
   },
   "outputs": [],
   "source": [
    "## GRADED PART, DO NOT CHANGE!\n",
    "# Validation loss for MLP\n",
    "grader.set_answer(\"i8bgs\", s.run(loss, {input_X: X_val_flat, input_y: y_val_oh}))\n",
    "# Validation accuracy for MLP\n",
    "grader.set_answer(\"rE763\", accuracy_score(y_val, s.run(classes, {input_X: X_val_flat})))"
   ]
  },
  {
   "cell_type": "code",
   "execution_count": null,
   "metadata": {
    "collapsed": true
   },
   "outputs": [],
   "source": [
    "# you can make submission with answers so far to check yourself at this stage\n",
    "grader.submit(COURSERA_EMAIL, COURSERA_TOKEN)"
   ]
  }
 ],
 "metadata": {
  "kernelspec": {
   "display_name": "Python 3",
   "language": "python",
   "name": "python3"
  },
  "language_info": {
   "codemirror_mode": {
    "name": "ipython",
    "version": 3
   },
   "file_extension": ".py",
   "mimetype": "text/x-python",
   "name": "python",
   "nbconvert_exporter": "python",
   "pygments_lexer": "ipython3",
   "version": "3.6.2"
  }
 },
 "nbformat": 4,
 "nbformat_minor": 1
}
